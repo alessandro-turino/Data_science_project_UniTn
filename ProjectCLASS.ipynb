{
 "cells": [
  {
   "cell_type": "markdown",
   "id": "3cf16e31-1c28-462c-b654-ab1b960b927e",
   "metadata": {},
   "source": [
    "# Classificazione Trento"
   ]
  },
  {
   "cell_type": "markdown",
   "id": "9aad4be2-d569-4e5f-b2c5-d146c3c8aa18",
   "metadata": {},
   "source": [
    "L'obiettivo di questo file e' di trovare il miglior modello di machine learning, dopo averne trainati diversi, che ci permetta di prevedere quali celle della zona urbana di Trento domani saranno ad alto consumo o meno in base ai dati di oggi. Il dataset e' quello creato in EDA, nel notebook 'ProgettoEDA.ipynb'."
   ]
  },
  {
   "cell_type": "code",
   "execution_count": 200,
   "id": "8cb47ad8-3014-4ee1-bdd5-dbce75885bb2",
   "metadata": {},
   "outputs": [],
   "source": [
    "import matplotlib.pyplot as plt\n",
    "import matplotlib.colors as mcolors\n",
    "from matplotlib.colors import ListedColormap, BoundaryNorm, TwoSlopeNorm\n",
    "from matplotlib.colors import Normalize\n",
    "from matplotlib.cm import ScalarMappable\n",
    "\n",
    "from joblib import dump, load\n",
    "from pathlib import Path\n",
    "\n",
    "import pandas as pd\n",
    "import numpy as np\n",
    "import seaborn as sns\n",
    "\n",
    "import geopandas as gpd\n",
    "import json\n",
    "from shapely.geometry import Point, shape, Polygon\n",
    "\n",
    "from sklearn import datasets\n",
    "from sklearn.model_selection import cross_val_score, ParameterGrid\n",
    "from sklearn.preprocessing import OneHotEncoder, StandardScaler, RobustScaler\n",
    "from sklearn.ensemble import RandomForestClassifier\n",
    "from sklearn.linear_model import LogisticRegressionCV, LogisticRegression\n",
    "from sklearn.linear_model import Ridge, Lasso, LinearRegression, LassoCV, RidgeCV\n",
    "from sklearn.model_selection import train_test_split, GridSearchCV\n",
    "from sklearn.preprocessing import StandardScaler\n",
    "from sklearn.pipeline import Pipeline\n",
    "from sklearn.metrics import mean_squared_error\n",
    "from sklearn.metrics import roc_curve, roc_auc_score, precision_recall_curve, auc\n",
    "from sklearn.metrics import matthews_corrcoef,confusion_matrix, ConfusionMatrixDisplay,accuracy_score, classification_report\n",
    "from sklearn.metrics import f1_score\n",
    "\n",
    "pd.set_option('display.max_rows', 250)\n",
    "rdm_st = 89 # utile per poter avere risultati riproducibili"
   ]
  },
  {
   "cell_type": "markdown",
   "id": "d03f86d8-0dc1-4381-a19e-079b77641ce5",
   "metadata": {},
   "source": [
    "Carico il file creato in fase EDA"
   ]
  },
  {
   "cell_type": "code",
   "execution_count": 9,
   "id": "d58863bf-0eab-4f4c-94dc-2dc72de6c1b9",
   "metadata": {},
   "outputs": [],
   "source": [
    "df = pd.read_csv(r'C:\\Users\\Francesco\\Desktop\\UniTN\\datascience\\progetto\\TanTupo\\trentino_dataset_class.xls').copy()"
   ]
  },
  {
   "cell_type": "code",
   "execution_count": 11,
   "id": "8c539810-fb75-4641-b291-6efe67b0b77a",
   "metadata": {},
   "outputs": [
    {
     "data": {
      "text/html": [
       "<div>\n",
       "<style scoped>\n",
       "    .dataframe tbody tr th:only-of-type {\n",
       "        vertical-align: middle;\n",
       "    }\n",
       "\n",
       "    .dataframe tbody tr th {\n",
       "        vertical-align: top;\n",
       "    }\n",
       "\n",
       "    .dataframe thead th {\n",
       "        text-align: right;\n",
       "    }\n",
       "</style>\n",
       "<table border=\"1\" class=\"dataframe\">\n",
       "  <thead>\n",
       "    <tr style=\"text-align: right;\">\n",
       "      <th></th>\n",
       "      <th>cellId</th>\n",
       "      <th>day</th>\n",
       "      <th>fascia_giorno</th>\n",
       "      <th>UBIC_CELL</th>\n",
       "      <th>n_linee</th>\n",
       "      <th>energy</th>\n",
       "      <th>temp_min</th>\n",
       "      <th>temp_max</th>\n",
       "      <th>temp_mean</th>\n",
       "      <th>tweet_count</th>\n",
       "      <th>...</th>\n",
       "      <th>DEC</th>\n",
       "      <th>LU</th>\n",
       "      <th>MA</th>\n",
       "      <th>ME</th>\n",
       "      <th>GI</th>\n",
       "      <th>VE</th>\n",
       "      <th>SA</th>\n",
       "      <th>DO</th>\n",
       "      <th>TargetReg</th>\n",
       "      <th>TargetClas</th>\n",
       "    </tr>\n",
       "  </thead>\n",
       "  <tbody>\n",
       "    <tr>\n",
       "      <th>0</th>\n",
       "      <td>4381</td>\n",
       "      <td>1</td>\n",
       "      <td>1</td>\n",
       "      <td>39</td>\n",
       "      <td>1</td>\n",
       "      <td>1.239065</td>\n",
       "      <td>11.9</td>\n",
       "      <td>17.5</td>\n",
       "      <td>15.665909</td>\n",
       "      <td>0</td>\n",
       "      <td>...</td>\n",
       "      <td>0</td>\n",
       "      <td>0</td>\n",
       "      <td>0</td>\n",
       "      <td>0</td>\n",
       "      <td>0</td>\n",
       "      <td>1</td>\n",
       "      <td>0</td>\n",
       "      <td>0</td>\n",
       "      <td>1.247901</td>\n",
       "      <td>0</td>\n",
       "    </tr>\n",
       "    <tr>\n",
       "      <th>1</th>\n",
       "      <td>4381</td>\n",
       "      <td>1</td>\n",
       "      <td>0</td>\n",
       "      <td>39</td>\n",
       "      <td>1</td>\n",
       "      <td>1.380110</td>\n",
       "      <td>13.1</td>\n",
       "      <td>14.9</td>\n",
       "      <td>13.850000</td>\n",
       "      <td>0</td>\n",
       "      <td>...</td>\n",
       "      <td>0</td>\n",
       "      <td>0</td>\n",
       "      <td>0</td>\n",
       "      <td>0</td>\n",
       "      <td>0</td>\n",
       "      <td>1</td>\n",
       "      <td>0</td>\n",
       "      <td>0</td>\n",
       "      <td>1.380259</td>\n",
       "      <td>0</td>\n",
       "    </tr>\n",
       "    <tr>\n",
       "      <th>2</th>\n",
       "      <td>4381</td>\n",
       "      <td>2</td>\n",
       "      <td>1</td>\n",
       "      <td>39</td>\n",
       "      <td>1</td>\n",
       "      <td>1.247901</td>\n",
       "      <td>11.0</td>\n",
       "      <td>16.0</td>\n",
       "      <td>13.836364</td>\n",
       "      <td>0</td>\n",
       "      <td>...</td>\n",
       "      <td>0</td>\n",
       "      <td>0</td>\n",
       "      <td>0</td>\n",
       "      <td>0</td>\n",
       "      <td>0</td>\n",
       "      <td>0</td>\n",
       "      <td>1</td>\n",
       "      <td>0</td>\n",
       "      <td>1.195697</td>\n",
       "      <td>0</td>\n",
       "    </tr>\n",
       "    <tr>\n",
       "      <th>3</th>\n",
       "      <td>4381</td>\n",
       "      <td>2</td>\n",
       "      <td>0</td>\n",
       "      <td>39</td>\n",
       "      <td>1</td>\n",
       "      <td>1.380259</td>\n",
       "      <td>10.6</td>\n",
       "      <td>12.5</td>\n",
       "      <td>11.780000</td>\n",
       "      <td>0</td>\n",
       "      <td>...</td>\n",
       "      <td>0</td>\n",
       "      <td>0</td>\n",
       "      <td>0</td>\n",
       "      <td>0</td>\n",
       "      <td>0</td>\n",
       "      <td>0</td>\n",
       "      <td>1</td>\n",
       "      <td>0</td>\n",
       "      <td>1.387678</td>\n",
       "      <td>0</td>\n",
       "    </tr>\n",
       "    <tr>\n",
       "      <th>4</th>\n",
       "      <td>4381</td>\n",
       "      <td>3</td>\n",
       "      <td>1</td>\n",
       "      <td>39</td>\n",
       "      <td>1</td>\n",
       "      <td>1.195697</td>\n",
       "      <td>13.9</td>\n",
       "      <td>18.8</td>\n",
       "      <td>15.772727</td>\n",
       "      <td>0</td>\n",
       "      <td>...</td>\n",
       "      <td>0</td>\n",
       "      <td>0</td>\n",
       "      <td>0</td>\n",
       "      <td>0</td>\n",
       "      <td>0</td>\n",
       "      <td>0</td>\n",
       "      <td>0</td>\n",
       "      <td>1</td>\n",
       "      <td>1.798402</td>\n",
       "      <td>0</td>\n",
       "    </tr>\n",
       "    <tr>\n",
       "      <th>...</th>\n",
       "      <td>...</td>\n",
       "      <td>...</td>\n",
       "      <td>...</td>\n",
       "      <td>...</td>\n",
       "      <td>...</td>\n",
       "      <td>...</td>\n",
       "      <td>...</td>\n",
       "      <td>...</td>\n",
       "      <td>...</td>\n",
       "      <td>...</td>\n",
       "      <td>...</td>\n",
       "      <td>...</td>\n",
       "      <td>...</td>\n",
       "      <td>...</td>\n",
       "      <td>...</td>\n",
       "      <td>...</td>\n",
       "      <td>...</td>\n",
       "      <td>...</td>\n",
       "      <td>...</td>\n",
       "      <td>...</td>\n",
       "      <td>...</td>\n",
       "    </tr>\n",
       "    <tr>\n",
       "      <th>6355</th>\n",
       "      <td>5902</td>\n",
       "      <td>28</td>\n",
       "      <td>0</td>\n",
       "      <td>438</td>\n",
       "      <td>2</td>\n",
       "      <td>10.753951</td>\n",
       "      <td>4.0</td>\n",
       "      <td>4.6</td>\n",
       "      <td>4.255000</td>\n",
       "      <td>2</td>\n",
       "      <td>...</td>\n",
       "      <td>1</td>\n",
       "      <td>0</td>\n",
       "      <td>0</td>\n",
       "      <td>0</td>\n",
       "      <td>0</td>\n",
       "      <td>0</td>\n",
       "      <td>1</td>\n",
       "      <td>0</td>\n",
       "      <td>10.523905</td>\n",
       "      <td>0</td>\n",
       "    </tr>\n",
       "    <tr>\n",
       "      <th>6356</th>\n",
       "      <td>5902</td>\n",
       "      <td>29</td>\n",
       "      <td>1</td>\n",
       "      <td>438</td>\n",
       "      <td>2</td>\n",
       "      <td>9.546638</td>\n",
       "      <td>4.4</td>\n",
       "      <td>7.0</td>\n",
       "      <td>5.718182</td>\n",
       "      <td>1</td>\n",
       "      <td>...</td>\n",
       "      <td>1</td>\n",
       "      <td>0</td>\n",
       "      <td>0</td>\n",
       "      <td>0</td>\n",
       "      <td>0</td>\n",
       "      <td>0</td>\n",
       "      <td>0</td>\n",
       "      <td>1</td>\n",
       "      <td>8.317639</td>\n",
       "      <td>0</td>\n",
       "    </tr>\n",
       "    <tr>\n",
       "      <th>6357</th>\n",
       "      <td>5902</td>\n",
       "      <td>29</td>\n",
       "      <td>0</td>\n",
       "      <td>438</td>\n",
       "      <td>2</td>\n",
       "      <td>10.523905</td>\n",
       "      <td>5.7</td>\n",
       "      <td>6.2</td>\n",
       "      <td>5.960000</td>\n",
       "      <td>0</td>\n",
       "      <td>...</td>\n",
       "      <td>1</td>\n",
       "      <td>0</td>\n",
       "      <td>0</td>\n",
       "      <td>0</td>\n",
       "      <td>0</td>\n",
       "      <td>0</td>\n",
       "      <td>0</td>\n",
       "      <td>1</td>\n",
       "      <td>11.160029</td>\n",
       "      <td>0</td>\n",
       "    </tr>\n",
       "    <tr>\n",
       "      <th>6358</th>\n",
       "      <td>5902</td>\n",
       "      <td>30</td>\n",
       "      <td>1</td>\n",
       "      <td>438</td>\n",
       "      <td>2</td>\n",
       "      <td>8.317639</td>\n",
       "      <td>1.2</td>\n",
       "      <td>8.2</td>\n",
       "      <td>4.838636</td>\n",
       "      <td>3</td>\n",
       "      <td>...</td>\n",
       "      <td>1</td>\n",
       "      <td>1</td>\n",
       "      <td>0</td>\n",
       "      <td>0</td>\n",
       "      <td>0</td>\n",
       "      <td>0</td>\n",
       "      <td>0</td>\n",
       "      <td>0</td>\n",
       "      <td>9.000693</td>\n",
       "      <td>0</td>\n",
       "    </tr>\n",
       "    <tr>\n",
       "      <th>6359</th>\n",
       "      <td>5902</td>\n",
       "      <td>30</td>\n",
       "      <td>0</td>\n",
       "      <td>438</td>\n",
       "      <td>2</td>\n",
       "      <td>11.160029</td>\n",
       "      <td>-1.5</td>\n",
       "      <td>1.4</td>\n",
       "      <td>-0.110000</td>\n",
       "      <td>0</td>\n",
       "      <td>...</td>\n",
       "      <td>1</td>\n",
       "      <td>1</td>\n",
       "      <td>0</td>\n",
       "      <td>0</td>\n",
       "      <td>0</td>\n",
       "      <td>0</td>\n",
       "      <td>0</td>\n",
       "      <td>0</td>\n",
       "      <td>10.514068</td>\n",
       "      <td>0</td>\n",
       "    </tr>\n",
       "  </tbody>\n",
       "</table>\n",
       "<p>6360 rows × 22 columns</p>\n",
       "</div>"
      ],
      "text/plain": [
       "      cellId  day  fascia_giorno  UBIC_CELL  n_linee     energy  temp_min  \\\n",
       "0       4381    1              1         39        1   1.239065      11.9   \n",
       "1       4381    1              0         39        1   1.380110      13.1   \n",
       "2       4381    2              1         39        1   1.247901      11.0   \n",
       "3       4381    2              0         39        1   1.380259      10.6   \n",
       "4       4381    3              1         39        1   1.195697      13.9   \n",
       "...      ...  ...            ...        ...      ...        ...       ...   \n",
       "6355    5902   28              0        438        2  10.753951       4.0   \n",
       "6356    5902   29              1        438        2   9.546638       4.4   \n",
       "6357    5902   29              0        438        2  10.523905       5.7   \n",
       "6358    5902   30              1        438        2   8.317639       1.2   \n",
       "6359    5902   30              0        438        2  11.160029      -1.5   \n",
       "\n",
       "      temp_max  temp_mean  tweet_count  ...  DEC  LU  MA  ME  GI  VE  SA  DO  \\\n",
       "0         17.5  15.665909            0  ...    0   0   0   0   0   1   0   0   \n",
       "1         14.9  13.850000            0  ...    0   0   0   0   0   1   0   0   \n",
       "2         16.0  13.836364            0  ...    0   0   0   0   0   0   1   0   \n",
       "3         12.5  11.780000            0  ...    0   0   0   0   0   0   1   0   \n",
       "4         18.8  15.772727            0  ...    0   0   0   0   0   0   0   1   \n",
       "...        ...        ...          ...  ...  ...  ..  ..  ..  ..  ..  ..  ..   \n",
       "6355       4.6   4.255000            2  ...    1   0   0   0   0   0   1   0   \n",
       "6356       7.0   5.718182            1  ...    1   0   0   0   0   0   0   1   \n",
       "6357       6.2   5.960000            0  ...    1   0   0   0   0   0   0   1   \n",
       "6358       8.2   4.838636            3  ...    1   1   0   0   0   0   0   0   \n",
       "6359       1.4  -0.110000            0  ...    1   1   0   0   0   0   0   0   \n",
       "\n",
       "      TargetReg  TargetClas  \n",
       "0      1.247901           0  \n",
       "1      1.380259           0  \n",
       "2      1.195697           0  \n",
       "3      1.387678           0  \n",
       "4      1.798402           0  \n",
       "...         ...         ...  \n",
       "6355  10.523905           0  \n",
       "6356   8.317639           0  \n",
       "6357  11.160029           0  \n",
       "6358   9.000693           0  \n",
       "6359  10.514068           0  \n",
       "\n",
       "[6360 rows x 22 columns]"
      ]
     },
     "execution_count": 11,
     "metadata": {},
     "output_type": "execute_result"
    }
   ],
   "source": [
    "df"
   ]
  },
  {
   "cell_type": "markdown",
   "id": "6f5edf22-d728-411a-b1de-e7e4dcdd8d2b",
   "metadata": {},
   "source": [
    "Ora togliamo le colonne che non ci servono:\n",
    "1. cellId -> sono numeri ordinati, e come gia' spiegato in EDA questo potrebbe portare a classificazioni fasulle, interpretando una cella con cellId piu alto piu importante rispetto a una con cellId piu' basso, cosa che non deve essere a priori\n",
    "2. day -> stesso motivo di cellId\n",
    "3. TargetReg -> l'ho usata solo per creare la colonna TargetClas che ci serve qua"
   ]
  },
  {
   "cell_type": "code",
   "execution_count": 14,
   "id": "16f7234b-52ec-459f-8740-04e27bad31fd",
   "metadata": {},
   "outputs": [],
   "source": [
    "del df['cellId']\n",
    "del df['day']\n",
    "del df['TargetReg']\n",
    "\n",
    "#Rinomino la colonna TargetClas in target\n",
    "df = df.rename(columns={'TargetClas': 'target'})"
   ]
  },
  {
   "cell_type": "code",
   "execution_count": 16,
   "id": "1b92833c-e491-4ddf-8fe3-a2701154379d",
   "metadata": {},
   "outputs": [],
   "source": [
    "# Tolgo i sabati e le domeniche, voglio solo analizzare giorni infrasettimanali\n",
    "df = df[(df['SA'] != 1) & (df['DO'] != 1)]\n",
    "del df['SA']\n",
    "del df['DO']"
   ]
  },
  {
   "cell_type": "code",
   "execution_count": 18,
   "id": "fd3bfc46-6e67-4558-a29f-2eabe426c063",
   "metadata": {},
   "outputs": [
    {
     "data": {
      "text/html": [
       "<div>\n",
       "<style scoped>\n",
       "    .dataframe tbody tr th:only-of-type {\n",
       "        vertical-align: middle;\n",
       "    }\n",
       "\n",
       "    .dataframe tbody tr th {\n",
       "        vertical-align: top;\n",
       "    }\n",
       "\n",
       "    .dataframe thead th {\n",
       "        text-align: right;\n",
       "    }\n",
       "</style>\n",
       "<table border=\"1\" class=\"dataframe\">\n",
       "  <thead>\n",
       "    <tr style=\"text-align: right;\">\n",
       "      <th></th>\n",
       "      <th>fascia_giorno</th>\n",
       "      <th>UBIC_CELL</th>\n",
       "      <th>n_linee</th>\n",
       "      <th>energy</th>\n",
       "      <th>temp_min</th>\n",
       "      <th>temp_max</th>\n",
       "      <th>temp_mean</th>\n",
       "      <th>tweet_count</th>\n",
       "      <th>precip_mm</th>\n",
       "      <th>NOV</th>\n",
       "      <th>DEC</th>\n",
       "      <th>LU</th>\n",
       "      <th>MA</th>\n",
       "      <th>ME</th>\n",
       "      <th>GI</th>\n",
       "      <th>VE</th>\n",
       "      <th>target</th>\n",
       "    </tr>\n",
       "  </thead>\n",
       "  <tbody>\n",
       "    <tr>\n",
       "      <th>0</th>\n",
       "      <td>1</td>\n",
       "      <td>39</td>\n",
       "      <td>1</td>\n",
       "      <td>1.239065</td>\n",
       "      <td>11.9</td>\n",
       "      <td>17.5</td>\n",
       "      <td>15.665909</td>\n",
       "      <td>0</td>\n",
       "      <td>0.0</td>\n",
       "      <td>1</td>\n",
       "      <td>0</td>\n",
       "      <td>0</td>\n",
       "      <td>0</td>\n",
       "      <td>0</td>\n",
       "      <td>0</td>\n",
       "      <td>1</td>\n",
       "      <td>0</td>\n",
       "    </tr>\n",
       "    <tr>\n",
       "      <th>1</th>\n",
       "      <td>0</td>\n",
       "      <td>39</td>\n",
       "      <td>1</td>\n",
       "      <td>1.380110</td>\n",
       "      <td>13.1</td>\n",
       "      <td>14.9</td>\n",
       "      <td>13.850000</td>\n",
       "      <td>0</td>\n",
       "      <td>0.0</td>\n",
       "      <td>1</td>\n",
       "      <td>0</td>\n",
       "      <td>0</td>\n",
       "      <td>0</td>\n",
       "      <td>0</td>\n",
       "      <td>0</td>\n",
       "      <td>1</td>\n",
       "      <td>0</td>\n",
       "    </tr>\n",
       "    <tr>\n",
       "      <th>6</th>\n",
       "      <td>1</td>\n",
       "      <td>39</td>\n",
       "      <td>1</td>\n",
       "      <td>1.798402</td>\n",
       "      <td>8.5</td>\n",
       "      <td>10.4</td>\n",
       "      <td>9.340909</td>\n",
       "      <td>0</td>\n",
       "      <td>7.2</td>\n",
       "      <td>1</td>\n",
       "      <td>0</td>\n",
       "      <td>1</td>\n",
       "      <td>0</td>\n",
       "      <td>0</td>\n",
       "      <td>0</td>\n",
       "      <td>0</td>\n",
       "      <td>0</td>\n",
       "    </tr>\n",
       "    <tr>\n",
       "      <th>7</th>\n",
       "      <td>0</td>\n",
       "      <td>39</td>\n",
       "      <td>1</td>\n",
       "      <td>1.689786</td>\n",
       "      <td>8.4</td>\n",
       "      <td>8.6</td>\n",
       "      <td>8.525000</td>\n",
       "      <td>0</td>\n",
       "      <td>1.2</td>\n",
       "      <td>1</td>\n",
       "      <td>0</td>\n",
       "      <td>1</td>\n",
       "      <td>0</td>\n",
       "      <td>0</td>\n",
       "      <td>0</td>\n",
       "      <td>0</td>\n",
       "      <td>0</td>\n",
       "    </tr>\n",
       "    <tr>\n",
       "      <th>8</th>\n",
       "      <td>1</td>\n",
       "      <td>39</td>\n",
       "      <td>1</td>\n",
       "      <td>1.657573</td>\n",
       "      <td>9.0</td>\n",
       "      <td>15.3</td>\n",
       "      <td>12.125000</td>\n",
       "      <td>0</td>\n",
       "      <td>0.0</td>\n",
       "      <td>1</td>\n",
       "      <td>0</td>\n",
       "      <td>0</td>\n",
       "      <td>1</td>\n",
       "      <td>0</td>\n",
       "      <td>0</td>\n",
       "      <td>0</td>\n",
       "      <td>0</td>\n",
       "    </tr>\n",
       "    <tr>\n",
       "      <th>...</th>\n",
       "      <td>...</td>\n",
       "      <td>...</td>\n",
       "      <td>...</td>\n",
       "      <td>...</td>\n",
       "      <td>...</td>\n",
       "      <td>...</td>\n",
       "      <td>...</td>\n",
       "      <td>...</td>\n",
       "      <td>...</td>\n",
       "      <td>...</td>\n",
       "      <td>...</td>\n",
       "      <td>...</td>\n",
       "      <td>...</td>\n",
       "      <td>...</td>\n",
       "      <td>...</td>\n",
       "      <td>...</td>\n",
       "      <td>...</td>\n",
       "    </tr>\n",
       "    <tr>\n",
       "      <th>6351</th>\n",
       "      <td>0</td>\n",
       "      <td>438</td>\n",
       "      <td>2</td>\n",
       "      <td>10.469691</td>\n",
       "      <td>4.2</td>\n",
       "      <td>6.3</td>\n",
       "      <td>5.240000</td>\n",
       "      <td>2</td>\n",
       "      <td>0.8</td>\n",
       "      <td>0</td>\n",
       "      <td>1</td>\n",
       "      <td>0</td>\n",
       "      <td>0</td>\n",
       "      <td>0</td>\n",
       "      <td>1</td>\n",
       "      <td>0</td>\n",
       "      <td>0</td>\n",
       "    </tr>\n",
       "    <tr>\n",
       "      <th>6352</th>\n",
       "      <td>1</td>\n",
       "      <td>438</td>\n",
       "      <td>2</td>\n",
       "      <td>8.829274</td>\n",
       "      <td>3.2</td>\n",
       "      <td>9.8</td>\n",
       "      <td>7.304545</td>\n",
       "      <td>5</td>\n",
       "      <td>0.0</td>\n",
       "      <td>0</td>\n",
       "      <td>1</td>\n",
       "      <td>0</td>\n",
       "      <td>0</td>\n",
       "      <td>0</td>\n",
       "      <td>0</td>\n",
       "      <td>1</td>\n",
       "      <td>0</td>\n",
       "    </tr>\n",
       "    <tr>\n",
       "      <th>6353</th>\n",
       "      <td>0</td>\n",
       "      <td>438</td>\n",
       "      <td>2</td>\n",
       "      <td>10.922511</td>\n",
       "      <td>1.0</td>\n",
       "      <td>2.7</td>\n",
       "      <td>1.935000</td>\n",
       "      <td>2</td>\n",
       "      <td>0.0</td>\n",
       "      <td>0</td>\n",
       "      <td>1</td>\n",
       "      <td>0</td>\n",
       "      <td>0</td>\n",
       "      <td>0</td>\n",
       "      <td>0</td>\n",
       "      <td>1</td>\n",
       "      <td>0</td>\n",
       "    </tr>\n",
       "    <tr>\n",
       "      <th>6358</th>\n",
       "      <td>1</td>\n",
       "      <td>438</td>\n",
       "      <td>2</td>\n",
       "      <td>8.317639</td>\n",
       "      <td>1.2</td>\n",
       "      <td>8.2</td>\n",
       "      <td>4.838636</td>\n",
       "      <td>3</td>\n",
       "      <td>0.0</td>\n",
       "      <td>0</td>\n",
       "      <td>1</td>\n",
       "      <td>1</td>\n",
       "      <td>0</td>\n",
       "      <td>0</td>\n",
       "      <td>0</td>\n",
       "      <td>0</td>\n",
       "      <td>0</td>\n",
       "    </tr>\n",
       "    <tr>\n",
       "      <th>6359</th>\n",
       "      <td>0</td>\n",
       "      <td>438</td>\n",
       "      <td>2</td>\n",
       "      <td>11.160029</td>\n",
       "      <td>-1.5</td>\n",
       "      <td>1.4</td>\n",
       "      <td>-0.110000</td>\n",
       "      <td>0</td>\n",
       "      <td>0.0</td>\n",
       "      <td>0</td>\n",
       "      <td>1</td>\n",
       "      <td>1</td>\n",
       "      <td>0</td>\n",
       "      <td>0</td>\n",
       "      <td>0</td>\n",
       "      <td>0</td>\n",
       "      <td>0</td>\n",
       "    </tr>\n",
       "  </tbody>\n",
       "</table>\n",
       "<p>4452 rows × 17 columns</p>\n",
       "</div>"
      ],
      "text/plain": [
       "      fascia_giorno  UBIC_CELL  n_linee     energy  temp_min  temp_max  \\\n",
       "0                 1         39        1   1.239065      11.9      17.5   \n",
       "1                 0         39        1   1.380110      13.1      14.9   \n",
       "6                 1         39        1   1.798402       8.5      10.4   \n",
       "7                 0         39        1   1.689786       8.4       8.6   \n",
       "8                 1         39        1   1.657573       9.0      15.3   \n",
       "...             ...        ...      ...        ...       ...       ...   \n",
       "6351              0        438        2  10.469691       4.2       6.3   \n",
       "6352              1        438        2   8.829274       3.2       9.8   \n",
       "6353              0        438        2  10.922511       1.0       2.7   \n",
       "6358              1        438        2   8.317639       1.2       8.2   \n",
       "6359              0        438        2  11.160029      -1.5       1.4   \n",
       "\n",
       "      temp_mean  tweet_count  precip_mm  NOV  DEC  LU  MA  ME  GI  VE  target  \n",
       "0     15.665909            0        0.0    1    0   0   0   0   0   1       0  \n",
       "1     13.850000            0        0.0    1    0   0   0   0   0   1       0  \n",
       "6      9.340909            0        7.2    1    0   1   0   0   0   0       0  \n",
       "7      8.525000            0        1.2    1    0   1   0   0   0   0       0  \n",
       "8     12.125000            0        0.0    1    0   0   1   0   0   0       0  \n",
       "...         ...          ...        ...  ...  ...  ..  ..  ..  ..  ..     ...  \n",
       "6351   5.240000            2        0.8    0    1   0   0   0   1   0       0  \n",
       "6352   7.304545            5        0.0    0    1   0   0   0   0   1       0  \n",
       "6353   1.935000            2        0.0    0    1   0   0   0   0   1       0  \n",
       "6358   4.838636            3        0.0    0    1   1   0   0   0   0       0  \n",
       "6359  -0.110000            0        0.0    0    1   1   0   0   0   0       0  \n",
       "\n",
       "[4452 rows x 17 columns]"
      ]
     },
     "execution_count": 18,
     "metadata": {},
     "output_type": "execute_result"
    }
   ],
   "source": [
    "df"
   ]
  },
  {
   "cell_type": "markdown",
   "id": "3fe18e1b-05fb-450d-a934-ab23669f7ea1",
   "metadata": {},
   "source": [
    "Dato che abbiamo scelto la mediana come soglia per cella ad alta energia, verifichiamo che le popolazioni hanno la stessa dimensione:"
   ]
  },
  {
   "cell_type": "code",
   "execution_count": 21,
   "id": "e85022b3-384c-42d0-9f90-cad8fff557dc",
   "metadata": {},
   "outputs": [
    {
     "name": "stdout",
     "output_type": "stream",
     "text": [
      "target\n",
      "1    2266\n",
      "0    2186\n",
      "Name: count, dtype: int64\n"
     ]
    }
   ],
   "source": [
    "print(df['target'].value_counts())"
   ]
  },
  {
   "cell_type": "markdown",
   "id": "5139ddc3-6c45-4fc9-86c7-10f31e232d84",
   "metadata": {},
   "source": [
    "Iniziamo a suddividere il dataset in training, validation e test, con percentuali 60-20-20"
   ]
  },
  {
   "cell_type": "code",
   "execution_count": 24,
   "id": "7fd67007-4bc4-4fe9-aac4-fe2e4a42bcac",
   "metadata": {},
   "outputs": [],
   "source": [
    "df_train, df_valid_test = train_test_split(df, test_size = 0.4, random_state=rdm_st)\n",
    "df_valid, df_test = train_test_split(df_valid_test, test_size = 0.5, random_state=rdm_st)"
   ]
  },
  {
   "cell_type": "markdown",
   "id": "28a040f3-ac0c-4830-85f6-307729f856f4",
   "metadata": {},
   "source": [
    "Dividiamo le features dal target"
   ]
  },
  {
   "cell_type": "code",
   "execution_count": 27,
   "id": "3a7dcabb-0e5e-4d5c-a0e4-2bfaa124ea15",
   "metadata": {},
   "outputs": [],
   "source": [
    "x_train = df_train.drop(columns='target')\n",
    "y_train = df_train['target']\n",
    "\n",
    "x_valid = df_valid.drop(columns='target')\n",
    "y_valid = df_valid['target']\n",
    "\n",
    "x_test = df_test.drop(columns='target')\n",
    "y_test = df_test['target']"
   ]
  },
  {
   "cell_type": "markdown",
   "id": "900c1059-dd9c-4e06-aee7-c88c5fc03817",
   "metadata": {},
   "source": [
    "Successivamente si proveranno piu' modelli di classificazione, e si scegliera' in seguito il migliore."
   ]
  },
  {
   "cell_type": "markdown",
   "id": "c7a4e5a6-7ae5-4f4e-8e1e-5341645b8975",
   "metadata": {},
   "source": [
    "## Random Forest"
   ]
  },
  {
   "cell_type": "code",
   "execution_count": 33,
   "id": "8fe9e79d-fa5e-4a11-9f12-311e2b23885f",
   "metadata": {},
   "outputs": [],
   "source": [
    "model_rf = RandomForestClassifier(random_state = rdm_st)"
   ]
  },
  {
   "cell_type": "markdown",
   "id": "f909f746-3e05-4356-879e-40d4b7a6c868",
   "metadata": {},
   "source": [
    "Quando si usano le Random Forest non è necessario riscalare le features.\n",
    "Faccio il training:"
   ]
  },
  {
   "cell_type": "code",
   "execution_count": 36,
   "id": "633a033d-3bd7-43f6-bc9c-540cc8092ba7",
   "metadata": {},
   "outputs": [
    {
     "data": {
      "text/html": [
       "<style>#sk-container-id-1 {\n",
       "  /* Definition of color scheme common for light and dark mode */\n",
       "  --sklearn-color-text: black;\n",
       "  --sklearn-color-line: gray;\n",
       "  /* Definition of color scheme for unfitted estimators */\n",
       "  --sklearn-color-unfitted-level-0: #fff5e6;\n",
       "  --sklearn-color-unfitted-level-1: #f6e4d2;\n",
       "  --sklearn-color-unfitted-level-2: #ffe0b3;\n",
       "  --sklearn-color-unfitted-level-3: chocolate;\n",
       "  /* Definition of color scheme for fitted estimators */\n",
       "  --sklearn-color-fitted-level-0: #f0f8ff;\n",
       "  --sklearn-color-fitted-level-1: #d4ebff;\n",
       "  --sklearn-color-fitted-level-2: #b3dbfd;\n",
       "  --sklearn-color-fitted-level-3: cornflowerblue;\n",
       "\n",
       "  /* Specific color for light theme */\n",
       "  --sklearn-color-text-on-default-background: var(--sg-text-color, var(--theme-code-foreground, var(--jp-content-font-color1, black)));\n",
       "  --sklearn-color-background: var(--sg-background-color, var(--theme-background, var(--jp-layout-color0, white)));\n",
       "  --sklearn-color-border-box: var(--sg-text-color, var(--theme-code-foreground, var(--jp-content-font-color1, black)));\n",
       "  --sklearn-color-icon: #696969;\n",
       "\n",
       "  @media (prefers-color-scheme: dark) {\n",
       "    /* Redefinition of color scheme for dark theme */\n",
       "    --sklearn-color-text-on-default-background: var(--sg-text-color, var(--theme-code-foreground, var(--jp-content-font-color1, white)));\n",
       "    --sklearn-color-background: var(--sg-background-color, var(--theme-background, var(--jp-layout-color0, #111)));\n",
       "    --sklearn-color-border-box: var(--sg-text-color, var(--theme-code-foreground, var(--jp-content-font-color1, white)));\n",
       "    --sklearn-color-icon: #878787;\n",
       "  }\n",
       "}\n",
       "\n",
       "#sk-container-id-1 {\n",
       "  color: var(--sklearn-color-text);\n",
       "}\n",
       "\n",
       "#sk-container-id-1 pre {\n",
       "  padding: 0;\n",
       "}\n",
       "\n",
       "#sk-container-id-1 input.sk-hidden--visually {\n",
       "  border: 0;\n",
       "  clip: rect(1px 1px 1px 1px);\n",
       "  clip: rect(1px, 1px, 1px, 1px);\n",
       "  height: 1px;\n",
       "  margin: -1px;\n",
       "  overflow: hidden;\n",
       "  padding: 0;\n",
       "  position: absolute;\n",
       "  width: 1px;\n",
       "}\n",
       "\n",
       "#sk-container-id-1 div.sk-dashed-wrapped {\n",
       "  border: 1px dashed var(--sklearn-color-line);\n",
       "  margin: 0 0.4em 0.5em 0.4em;\n",
       "  box-sizing: border-box;\n",
       "  padding-bottom: 0.4em;\n",
       "  background-color: var(--sklearn-color-background);\n",
       "}\n",
       "\n",
       "#sk-container-id-1 div.sk-container {\n",
       "  /* jupyter's `normalize.less` sets `[hidden] { display: none; }`\n",
       "     but bootstrap.min.css set `[hidden] { display: none !important; }`\n",
       "     so we also need the `!important` here to be able to override the\n",
       "     default hidden behavior on the sphinx rendered scikit-learn.org.\n",
       "     See: https://github.com/scikit-learn/scikit-learn/issues/21755 */\n",
       "  display: inline-block !important;\n",
       "  position: relative;\n",
       "}\n",
       "\n",
       "#sk-container-id-1 div.sk-text-repr-fallback {\n",
       "  display: none;\n",
       "}\n",
       "\n",
       "div.sk-parallel-item,\n",
       "div.sk-serial,\n",
       "div.sk-item {\n",
       "  /* draw centered vertical line to link estimators */\n",
       "  background-image: linear-gradient(var(--sklearn-color-text-on-default-background), var(--sklearn-color-text-on-default-background));\n",
       "  background-size: 2px 100%;\n",
       "  background-repeat: no-repeat;\n",
       "  background-position: center center;\n",
       "}\n",
       "\n",
       "/* Parallel-specific style estimator block */\n",
       "\n",
       "#sk-container-id-1 div.sk-parallel-item::after {\n",
       "  content: \"\";\n",
       "  width: 100%;\n",
       "  border-bottom: 2px solid var(--sklearn-color-text-on-default-background);\n",
       "  flex-grow: 1;\n",
       "}\n",
       "\n",
       "#sk-container-id-1 div.sk-parallel {\n",
       "  display: flex;\n",
       "  align-items: stretch;\n",
       "  justify-content: center;\n",
       "  background-color: var(--sklearn-color-background);\n",
       "  position: relative;\n",
       "}\n",
       "\n",
       "#sk-container-id-1 div.sk-parallel-item {\n",
       "  display: flex;\n",
       "  flex-direction: column;\n",
       "}\n",
       "\n",
       "#sk-container-id-1 div.sk-parallel-item:first-child::after {\n",
       "  align-self: flex-end;\n",
       "  width: 50%;\n",
       "}\n",
       "\n",
       "#sk-container-id-1 div.sk-parallel-item:last-child::after {\n",
       "  align-self: flex-start;\n",
       "  width: 50%;\n",
       "}\n",
       "\n",
       "#sk-container-id-1 div.sk-parallel-item:only-child::after {\n",
       "  width: 0;\n",
       "}\n",
       "\n",
       "/* Serial-specific style estimator block */\n",
       "\n",
       "#sk-container-id-1 div.sk-serial {\n",
       "  display: flex;\n",
       "  flex-direction: column;\n",
       "  align-items: center;\n",
       "  background-color: var(--sklearn-color-background);\n",
       "  padding-right: 1em;\n",
       "  padding-left: 1em;\n",
       "}\n",
       "\n",
       "\n",
       "/* Toggleable style: style used for estimator/Pipeline/ColumnTransformer box that is\n",
       "clickable and can be expanded/collapsed.\n",
       "- Pipeline and ColumnTransformer use this feature and define the default style\n",
       "- Estimators will overwrite some part of the style using the `sk-estimator` class\n",
       "*/\n",
       "\n",
       "/* Pipeline and ColumnTransformer style (default) */\n",
       "\n",
       "#sk-container-id-1 div.sk-toggleable {\n",
       "  /* Default theme specific background. It is overwritten whether we have a\n",
       "  specific estimator or a Pipeline/ColumnTransformer */\n",
       "  background-color: var(--sklearn-color-background);\n",
       "}\n",
       "\n",
       "/* Toggleable label */\n",
       "#sk-container-id-1 label.sk-toggleable__label {\n",
       "  cursor: pointer;\n",
       "  display: block;\n",
       "  width: 100%;\n",
       "  margin-bottom: 0;\n",
       "  padding: 0.5em;\n",
       "  box-sizing: border-box;\n",
       "  text-align: center;\n",
       "}\n",
       "\n",
       "#sk-container-id-1 label.sk-toggleable__label-arrow:before {\n",
       "  /* Arrow on the left of the label */\n",
       "  content: \"▸\";\n",
       "  float: left;\n",
       "  margin-right: 0.25em;\n",
       "  color: var(--sklearn-color-icon);\n",
       "}\n",
       "\n",
       "#sk-container-id-1 label.sk-toggleable__label-arrow:hover:before {\n",
       "  color: var(--sklearn-color-text);\n",
       "}\n",
       "\n",
       "/* Toggleable content - dropdown */\n",
       "\n",
       "#sk-container-id-1 div.sk-toggleable__content {\n",
       "  max-height: 0;\n",
       "  max-width: 0;\n",
       "  overflow: hidden;\n",
       "  text-align: left;\n",
       "  /* unfitted */\n",
       "  background-color: var(--sklearn-color-unfitted-level-0);\n",
       "}\n",
       "\n",
       "#sk-container-id-1 div.sk-toggleable__content.fitted {\n",
       "  /* fitted */\n",
       "  background-color: var(--sklearn-color-fitted-level-0);\n",
       "}\n",
       "\n",
       "#sk-container-id-1 div.sk-toggleable__content pre {\n",
       "  margin: 0.2em;\n",
       "  border-radius: 0.25em;\n",
       "  color: var(--sklearn-color-text);\n",
       "  /* unfitted */\n",
       "  background-color: var(--sklearn-color-unfitted-level-0);\n",
       "}\n",
       "\n",
       "#sk-container-id-1 div.sk-toggleable__content.fitted pre {\n",
       "  /* unfitted */\n",
       "  background-color: var(--sklearn-color-fitted-level-0);\n",
       "}\n",
       "\n",
       "#sk-container-id-1 input.sk-toggleable__control:checked~div.sk-toggleable__content {\n",
       "  /* Expand drop-down */\n",
       "  max-height: 200px;\n",
       "  max-width: 100%;\n",
       "  overflow: auto;\n",
       "}\n",
       "\n",
       "#sk-container-id-1 input.sk-toggleable__control:checked~label.sk-toggleable__label-arrow:before {\n",
       "  content: \"▾\";\n",
       "}\n",
       "\n",
       "/* Pipeline/ColumnTransformer-specific style */\n",
       "\n",
       "#sk-container-id-1 div.sk-label input.sk-toggleable__control:checked~label.sk-toggleable__label {\n",
       "  color: var(--sklearn-color-text);\n",
       "  background-color: var(--sklearn-color-unfitted-level-2);\n",
       "}\n",
       "\n",
       "#sk-container-id-1 div.sk-label.fitted input.sk-toggleable__control:checked~label.sk-toggleable__label {\n",
       "  background-color: var(--sklearn-color-fitted-level-2);\n",
       "}\n",
       "\n",
       "/* Estimator-specific style */\n",
       "\n",
       "/* Colorize estimator box */\n",
       "#sk-container-id-1 div.sk-estimator input.sk-toggleable__control:checked~label.sk-toggleable__label {\n",
       "  /* unfitted */\n",
       "  background-color: var(--sklearn-color-unfitted-level-2);\n",
       "}\n",
       "\n",
       "#sk-container-id-1 div.sk-estimator.fitted input.sk-toggleable__control:checked~label.sk-toggleable__label {\n",
       "  /* fitted */\n",
       "  background-color: var(--sklearn-color-fitted-level-2);\n",
       "}\n",
       "\n",
       "#sk-container-id-1 div.sk-label label.sk-toggleable__label,\n",
       "#sk-container-id-1 div.sk-label label {\n",
       "  /* The background is the default theme color */\n",
       "  color: var(--sklearn-color-text-on-default-background);\n",
       "}\n",
       "\n",
       "/* On hover, darken the color of the background */\n",
       "#sk-container-id-1 div.sk-label:hover label.sk-toggleable__label {\n",
       "  color: var(--sklearn-color-text);\n",
       "  background-color: var(--sklearn-color-unfitted-level-2);\n",
       "}\n",
       "\n",
       "/* Label box, darken color on hover, fitted */\n",
       "#sk-container-id-1 div.sk-label.fitted:hover label.sk-toggleable__label.fitted {\n",
       "  color: var(--sklearn-color-text);\n",
       "  background-color: var(--sklearn-color-fitted-level-2);\n",
       "}\n",
       "\n",
       "/* Estimator label */\n",
       "\n",
       "#sk-container-id-1 div.sk-label label {\n",
       "  font-family: monospace;\n",
       "  font-weight: bold;\n",
       "  display: inline-block;\n",
       "  line-height: 1.2em;\n",
       "}\n",
       "\n",
       "#sk-container-id-1 div.sk-label-container {\n",
       "  text-align: center;\n",
       "}\n",
       "\n",
       "/* Estimator-specific */\n",
       "#sk-container-id-1 div.sk-estimator {\n",
       "  font-family: monospace;\n",
       "  border: 1px dotted var(--sklearn-color-border-box);\n",
       "  border-radius: 0.25em;\n",
       "  box-sizing: border-box;\n",
       "  margin-bottom: 0.5em;\n",
       "  /* unfitted */\n",
       "  background-color: var(--sklearn-color-unfitted-level-0);\n",
       "}\n",
       "\n",
       "#sk-container-id-1 div.sk-estimator.fitted {\n",
       "  /* fitted */\n",
       "  background-color: var(--sklearn-color-fitted-level-0);\n",
       "}\n",
       "\n",
       "/* on hover */\n",
       "#sk-container-id-1 div.sk-estimator:hover {\n",
       "  /* unfitted */\n",
       "  background-color: var(--sklearn-color-unfitted-level-2);\n",
       "}\n",
       "\n",
       "#sk-container-id-1 div.sk-estimator.fitted:hover {\n",
       "  /* fitted */\n",
       "  background-color: var(--sklearn-color-fitted-level-2);\n",
       "}\n",
       "\n",
       "/* Specification for estimator info (e.g. \"i\" and \"?\") */\n",
       "\n",
       "/* Common style for \"i\" and \"?\" */\n",
       "\n",
       ".sk-estimator-doc-link,\n",
       "a:link.sk-estimator-doc-link,\n",
       "a:visited.sk-estimator-doc-link {\n",
       "  float: right;\n",
       "  font-size: smaller;\n",
       "  line-height: 1em;\n",
       "  font-family: monospace;\n",
       "  background-color: var(--sklearn-color-background);\n",
       "  border-radius: 1em;\n",
       "  height: 1em;\n",
       "  width: 1em;\n",
       "  text-decoration: none !important;\n",
       "  margin-left: 1ex;\n",
       "  /* unfitted */\n",
       "  border: var(--sklearn-color-unfitted-level-1) 1pt solid;\n",
       "  color: var(--sklearn-color-unfitted-level-1);\n",
       "}\n",
       "\n",
       ".sk-estimator-doc-link.fitted,\n",
       "a:link.sk-estimator-doc-link.fitted,\n",
       "a:visited.sk-estimator-doc-link.fitted {\n",
       "  /* fitted */\n",
       "  border: var(--sklearn-color-fitted-level-1) 1pt solid;\n",
       "  color: var(--sklearn-color-fitted-level-1);\n",
       "}\n",
       "\n",
       "/* On hover */\n",
       "div.sk-estimator:hover .sk-estimator-doc-link:hover,\n",
       ".sk-estimator-doc-link:hover,\n",
       "div.sk-label-container:hover .sk-estimator-doc-link:hover,\n",
       ".sk-estimator-doc-link:hover {\n",
       "  /* unfitted */\n",
       "  background-color: var(--sklearn-color-unfitted-level-3);\n",
       "  color: var(--sklearn-color-background);\n",
       "  text-decoration: none;\n",
       "}\n",
       "\n",
       "div.sk-estimator.fitted:hover .sk-estimator-doc-link.fitted:hover,\n",
       ".sk-estimator-doc-link.fitted:hover,\n",
       "div.sk-label-container:hover .sk-estimator-doc-link.fitted:hover,\n",
       ".sk-estimator-doc-link.fitted:hover {\n",
       "  /* fitted */\n",
       "  background-color: var(--sklearn-color-fitted-level-3);\n",
       "  color: var(--sklearn-color-background);\n",
       "  text-decoration: none;\n",
       "}\n",
       "\n",
       "/* Span, style for the box shown on hovering the info icon */\n",
       ".sk-estimator-doc-link span {\n",
       "  display: none;\n",
       "  z-index: 9999;\n",
       "  position: relative;\n",
       "  font-weight: normal;\n",
       "  right: .2ex;\n",
       "  padding: .5ex;\n",
       "  margin: .5ex;\n",
       "  width: min-content;\n",
       "  min-width: 20ex;\n",
       "  max-width: 50ex;\n",
       "  color: var(--sklearn-color-text);\n",
       "  box-shadow: 2pt 2pt 4pt #999;\n",
       "  /* unfitted */\n",
       "  background: var(--sklearn-color-unfitted-level-0);\n",
       "  border: .5pt solid var(--sklearn-color-unfitted-level-3);\n",
       "}\n",
       "\n",
       ".sk-estimator-doc-link.fitted span {\n",
       "  /* fitted */\n",
       "  background: var(--sklearn-color-fitted-level-0);\n",
       "  border: var(--sklearn-color-fitted-level-3);\n",
       "}\n",
       "\n",
       ".sk-estimator-doc-link:hover span {\n",
       "  display: block;\n",
       "}\n",
       "\n",
       "/* \"?\"-specific style due to the `<a>` HTML tag */\n",
       "\n",
       "#sk-container-id-1 a.estimator_doc_link {\n",
       "  float: right;\n",
       "  font-size: 1rem;\n",
       "  line-height: 1em;\n",
       "  font-family: monospace;\n",
       "  background-color: var(--sklearn-color-background);\n",
       "  border-radius: 1rem;\n",
       "  height: 1rem;\n",
       "  width: 1rem;\n",
       "  text-decoration: none;\n",
       "  /* unfitted */\n",
       "  color: var(--sklearn-color-unfitted-level-1);\n",
       "  border: var(--sklearn-color-unfitted-level-1) 1pt solid;\n",
       "}\n",
       "\n",
       "#sk-container-id-1 a.estimator_doc_link.fitted {\n",
       "  /* fitted */\n",
       "  border: var(--sklearn-color-fitted-level-1) 1pt solid;\n",
       "  color: var(--sklearn-color-fitted-level-1);\n",
       "}\n",
       "\n",
       "/* On hover */\n",
       "#sk-container-id-1 a.estimator_doc_link:hover {\n",
       "  /* unfitted */\n",
       "  background-color: var(--sklearn-color-unfitted-level-3);\n",
       "  color: var(--sklearn-color-background);\n",
       "  text-decoration: none;\n",
       "}\n",
       "\n",
       "#sk-container-id-1 a.estimator_doc_link.fitted:hover {\n",
       "  /* fitted */\n",
       "  background-color: var(--sklearn-color-fitted-level-3);\n",
       "}\n",
       "</style><div id=\"sk-container-id-1\" class=\"sk-top-container\"><div class=\"sk-text-repr-fallback\"><pre>RandomForestClassifier(random_state=89)</pre><b>In a Jupyter environment, please rerun this cell to show the HTML representation or trust the notebook. <br />On GitHub, the HTML representation is unable to render, please try loading this page with nbviewer.org.</b></div><div class=\"sk-container\" hidden><div class=\"sk-item\"><div class=\"sk-estimator fitted sk-toggleable\"><input class=\"sk-toggleable__control sk-hidden--visually\" id=\"sk-estimator-id-1\" type=\"checkbox\" checked><label for=\"sk-estimator-id-1\" class=\"sk-toggleable__label fitted sk-toggleable__label-arrow fitted\">&nbsp;&nbsp;RandomForestClassifier<a class=\"sk-estimator-doc-link fitted\" rel=\"noreferrer\" target=\"_blank\" href=\"https://scikit-learn.org/1.5/modules/generated/sklearn.ensemble.RandomForestClassifier.html\">?<span>Documentation for RandomForestClassifier</span></a><span class=\"sk-estimator-doc-link fitted\">i<span>Fitted</span></span></label><div class=\"sk-toggleable__content fitted\"><pre>RandomForestClassifier(random_state=89)</pre></div> </div></div></div></div>"
      ],
      "text/plain": [
       "RandomForestClassifier(random_state=89)"
      ]
     },
     "execution_count": 36,
     "metadata": {},
     "output_type": "execute_result"
    }
   ],
   "source": [
    "model_rf.fit(x_train, y_train)"
   ]
  },
  {
   "cell_type": "markdown",
   "id": "4631638d-9e03-4ee5-91d4-1225ae464733",
   "metadata": {},
   "source": [
    "E ora trovo i valori previsti su il set di validazione"
   ]
  },
  {
   "cell_type": "code",
   "execution_count": 39,
   "id": "c77b8b39-373f-46ba-8d9c-834ae1926fe3",
   "metadata": {},
   "outputs": [],
   "source": [
    "y_pred1 = model_rf.predict(x_valid)"
   ]
  },
  {
   "cell_type": "code",
   "execution_count": 41,
   "id": "43ebac18-fcfa-4f06-a321-e156bc9f67f5",
   "metadata": {},
   "outputs": [
    {
     "name": "stdout",
     "output_type": "stream",
     "text": [
      "Validation Accuracy: 0.9764044943820225\n",
      "              precision    recall  f1-score   support\n",
      "\n",
      "           0       0.98      0.97      0.97       407\n",
      "           1       0.98      0.98      0.98       483\n",
      "\n",
      "    accuracy                           0.98       890\n",
      "   macro avg       0.98      0.98      0.98       890\n",
      "weighted avg       0.98      0.98      0.98       890\n",
      "\n"
     ]
    },
    {
     "data": {
      "text/plain": [
       "Text(0.5, 1.0, 'Matrice di confusione: RF classifier su validation set')"
      ]
     },
     "execution_count": 41,
     "metadata": {},
     "output_type": "execute_result"
    },
    {
     "data": {
      "image/png": "[encoded data removed]",
      "text/plain": [
       "<Figure size 640x480 with 2 Axes>"
      ]
     },
     "metadata": {},
     "output_type": "display_data"
    }
   ],
   "source": [
    "print(\"Validation Accuracy:\", accuracy_score(y_valid, y_pred1))\n",
    "print(classification_report(y_valid, y_pred1))\n",
    "\n",
    "ConfusionMatrixDisplay.from_estimator(model_rf, x_valid, y_valid)\n",
    "plt.title('Matrice di confusione: RF classifier su validation set')"
   ]
  },
  {
   "cell_type": "markdown",
   "id": "f18f4c4e-74d9-413a-a154-bb63de055d41",
   "metadata": {},
   "source": [
    "classification_report ci da' varie informazioni sulla bonta' della nostra classificazione: ci interessano principalmente i vari valori degli estimatori solamente delle prime due righe, che sono le nostre classi 0 (bassa energia) e 1 (alta energia)"
   ]
  },
  {
   "cell_type": "code",
   "execution_count": 44,
   "id": "f21f4d6e-7695-4e8b-9385-75728ebd2d41",
   "metadata": {},
   "outputs": [
    {
     "name": "stdout",
     "output_type": "stream",
     "text": [
      "Train Accuracy: 1.0\n",
      "              precision    recall  f1-score   support\n",
      "\n",
      "           0       1.00      1.00      1.00      1331\n",
      "           1       1.00      1.00      1.00      1340\n",
      "\n",
      "    accuracy                           1.00      2671\n",
      "   macro avg       1.00      1.00      1.00      2671\n",
      "weighted avg       1.00      1.00      1.00      2671\n",
      "\n",
      "matrice di confusione: RF classifier su training set\n",
      "[[1331    0]\n",
      " [   0 1340]]\n"
     ]
    }
   ],
   "source": [
    "y_pred2 = model_rf.predict(x_train)\n",
    "print(\"Train Accuracy:\", accuracy_score(y_train, y_pred2))\n",
    "print(classification_report(y_train, y_pred2))\n",
    "print('matrice di confusione: RF classifier su training set')\n",
    "print(confusion_matrix(y_train, y_pred2))"
   ]
  },
  {
   "cell_type": "markdown",
   "id": "bc313dd7-c4c4-4152-81b5-c146cab91a9a",
   "metadata": {},
   "source": [
    "Per comodita' e per snellire il notebook, stamperemo matrici di confusione con print() quando riteniamo che queste siano di seconda importanza. Se le si vuole vedere tutte nella loro forma grafica, basta sostituire le linee di codice\n",
    "\n",
    "print('matrice di confusione')\n",
    "print(confusion_matrix(y_valid, y_predNR))\n",
    "\n",
    "con\n",
    "\n",
    "ConfusionMatrixDisplay.from_estimator(model_rf, x_valid, y_valid)\n",
    "plt.title('Matrice di confusione: RF classifier su training set')\n",
    "\n",
    "Notiamo che il modello riesce a fittare perfettamente il set di training e questo e' probabilmente dovuto ad un totale overfitting. E' un buon punto di partenza, proviamo con GridSearchCV"
   ]
  },
  {
   "cell_type": "code",
   "execution_count": 272,
   "id": "ee8a5a07-5d51-46c8-94f7-3a4fcd14d1cb",
   "metadata": {},
   "outputs": [],
   "source": [
    "def best_model (model, param_grid, x,y, cv=10, scoring='accuracy'):\n",
    "    \"\"\"\n",
    "    funzione che prende in INPUT\n",
    "    -> model: modello di classificazione (es RandomForestClassifier)\n",
    "    -> param_grid: dizionario usato da GridSearchCV, in cui metto\n",
    "                'nome_parametro1': [valore 1, valore 2, ...]\n",
    "                'nome_parametro2': [valore 1, valore 2, ...]\n",
    "                ...\n",
    "                ...\n",
    "        questi saranno i vari valori dei parametri tra i quali GridSearch andra' a cercare i milgiori valori\n",
    "    -> x e y: sono il set di training\n",
    "    -> cv: e' il numero di fold che viene usato\n",
    "    -> scoring: e' la metrica di riferimento da minimizzare, come accuracy(di base), f1, precision, recall\n",
    "    OUTPUT\n",
    "    -> _best_model: e' il modello ottimizzato tra i vari parametri scelti\n",
    "    -> _best_param: i parametri migliori trovati\n",
    "                \n",
    "    \"\"\"\n",
    "\n",
    "\n",
    "    \n",
    "    grid_model = GridSearchCV(model,\n",
    "                              param_grid=param_grid,\n",
    "                              scoring=scoring,\n",
    "                              cv=cv,\n",
    "                              n_jobs=-1, # cosi uso tutti cores del pc, piu veloce\n",
    "                              error_score=0\n",
    "                             )\n",
    "\n",
    "    grid_model.fit(x,y)\n",
    "\n",
    "    _best_param = grid_model.best_params_\n",
    "    _best_model = grid_model.best_estimator_\n",
    "\n",
    "    return _best_model, _best_param"
   ]
  },
  {
   "cell_type": "markdown",
   "id": "351657ec-2dea-47db-8e45-97403a9b8ee9",
   "metadata": {},
   "source": [
    "ora definisco i parametri tra cui voglio cercare:"
   ]
  },
  {
   "cell_type": "code",
   "execution_count": 275,
   "id": "790006a6-9f03-4fad-ba05-17f3bbc85fb0",
   "metadata": {},
   "outputs": [],
   "source": [
    "cv = 5\n",
    "\n",
    "param_grid = {\n",
    "    'n_estimators': [50, 75, 100, 130],\n",
    "    'max_depth': [5, 10, 20, None],\n",
    "    'min_samples_split': [2, 3, 5],\n",
    "    'min_samples_leaf': [2, 3, 5]\n",
    "}"
   ]
  },
  {
   "cell_type": "markdown",
   "id": "fd5832ff-7ee8-4ce5-8f66-9463d82bcf1c",
   "metadata": {},
   "source": [
    "Proviamo ad allenare i modelli usando tre metriche diverse"
   ]
  },
  {
   "cell_type": "code",
   "execution_count": 55,
   "id": "9d9f5a5f-f965-456b-afae-b311bbdb45fe",
   "metadata": {},
   "outputs": [
    {
     "name": "stderr",
     "output_type": "stream",
     "text": [
      "C:\\Users\\Francesco\\anaconda3\\Lib\\site-packages\\numpy\\ma\\core.py:2820: RuntimeWarning: invalid value encountered in cast\n",
      "  _data = np.array(data, dtype=dtype, copy=copy,\n"
     ]
    }
   ],
   "source": [
    "model_rf_acc, param_rf_acc = best_model(RandomForestClassifier(), param_grid, x_train, y_train, cv, 'accuracy')\n",
    "model_rf_f1, param_rf_f1 = best_model(RandomForestClassifier(), param_grid, x_train, y_train, cv, 'f1')\n",
    "model_rf_mcc, param_rf_mcc = best_model(RandomForestClassifier(), param_grid, x_train, y_train, cv, 'matthews_corrcoef')"
   ]
  },
  {
   "cell_type": "markdown",
   "id": "92bb36f3-50f7-4f8f-b13a-9997cb276954",
   "metadata": {},
   "source": [
    "Ora che ho trainato il modello provo a vedere i risultati"
   ]
  },
  {
   "cell_type": "code",
   "execution_count": 268,
   "id": "01255f03-fb78-4ad8-b0a4-69ddc3b0cecb",
   "metadata": {},
   "outputs": [
    {
     "name": "stdout",
     "output_type": "stream",
     "text": [
      "{'max_depth': None, 'min_samples_leaf': 2, 'min_samples_split': 2, 'n_estimators': 100}\n",
      "{'max_depth': None, 'min_samples_leaf': 2, 'min_samples_split': 3, 'n_estimators': 100}\n",
      "{'max_depth': None, 'min_samples_leaf': 2, 'min_samples_split': 5, 'n_estimators': 75}\n"
     ]
    }
   ],
   "source": [
    "print(param_rf_acc)\n",
    "print(param_rf_f1)\n",
    "print(param_rf_mcc)"
   ]
  },
  {
   "cell_type": "markdown",
   "id": "632c472d-5ce0-4663-9c1a-97e52c24d702",
   "metadata": {},
   "source": [
    "Guardo e confronto i tre modelli"
   ]
  },
  {
   "cell_type": "code",
   "execution_count": 61,
   "id": "c5de1605-1696-456c-a5d5-f835535b6d0e",
   "metadata": {},
   "outputs": [],
   "source": [
    "y_pred3 = model_rf_acc.predict(x_valid)\n",
    "y_pred4 = model_rf_acc.predict(x_train)\n",
    "\n",
    "y_pred5 = model_rf_f1.predict(x_valid)\n",
    "y_pred6 = model_rf_f1.predict(x_train)\n",
    "\n",
    "y_pred7 = model_rf_mcc.predict(x_valid)\n",
    "y_pred8 = model_rf_mcc.predict(x_train)"
   ]
  },
  {
   "cell_type": "code",
   "execution_count": 63,
   "id": "6fa42a70-de79-4158-9359-810639ba6361",
   "metadata": {},
   "outputs": [
    {
     "name": "stdout",
     "output_type": "stream",
     "text": [
      "ACCURACY VALIDAZIONE\n",
      "Train Accuracy: 0.9730337078651685\n",
      "              precision    recall  f1-score   support\n",
      "\n",
      "           0       0.98      0.97      0.97       407\n",
      "           1       0.97      0.98      0.98       483\n",
      "\n",
      "    accuracy                           0.97       890\n",
      "   macro avg       0.97      0.97      0.97       890\n",
      "weighted avg       0.97      0.97      0.97       890\n",
      "\n",
      "matrice di confusione: RF classifier ottimizzato accuracy su validation set\n",
      "[[393  14]\n",
      " [ 10 473]]\n"
     ]
    }
   ],
   "source": [
    "print('ACCURACY VALIDAZIONE')\n",
    "print(\"Train Accuracy:\", accuracy_score(y_valid, y_pred3))\n",
    "print(classification_report(y_valid, y_pred3))\n",
    "print('matrice di confusione: RF classifier ottimizzato accuracy su validation set')\n",
    "print(confusion_matrix(y_valid, y_pred3))"
   ]
  },
  {
   "cell_type": "code",
   "execution_count": 65,
   "id": "3fe0c8b6-6cc8-4769-8ce8-91af98756f71",
   "metadata": {},
   "outputs": [
    {
     "name": "stdout",
     "output_type": "stream",
     "text": [
      "ACCURACY TRAIN\n",
      "Train Accuracy: 0.9943841257955822\n",
      "              precision    recall  f1-score   support\n",
      "\n",
      "           0       0.99      1.00      0.99      1331\n",
      "           1       1.00      0.99      0.99      1340\n",
      "\n",
      "    accuracy                           0.99      2671\n",
      "   macro avg       0.99      0.99      0.99      2671\n",
      "weighted avg       0.99      0.99      0.99      2671\n",
      "\n",
      "matrice di confusione: RF classifier ottimizzato accuracy su training set\n",
      "[[1326    5]\n",
      " [  10 1330]]\n"
     ]
    }
   ],
   "source": [
    "print('ACCURACY TRAIN')\n",
    "print(\"Train Accuracy:\", accuracy_score(y_train, y_pred4))\n",
    "print(classification_report(y_train, y_pred4))\n",
    "print('matrice di confusione: RF classifier ottimizzato accuracy su training set')\n",
    "print(confusion_matrix(y_train, y_pred4))"
   ]
  },
  {
   "cell_type": "code",
   "execution_count": 67,
   "id": "3c7f22d4-ef87-4139-b3b0-b12677b3504c",
   "metadata": {},
   "outputs": [
    {
     "name": "stdout",
     "output_type": "stream",
     "text": [
      "F1 VALIDAZIONE\n",
      "Train Accuracy: 0.9741573033707865\n",
      "              precision    recall  f1-score   support\n",
      "\n",
      "           0       0.97      0.97      0.97       407\n",
      "           1       0.98      0.98      0.98       483\n",
      "\n",
      "    accuracy                           0.97       890\n",
      "   macro avg       0.97      0.97      0.97       890\n",
      "weighted avg       0.97      0.97      0.97       890\n",
      "\n",
      "matrice di confusione: RF classifier ottimizzato f1 su validation set\n",
      "[[395  12]\n",
      " [ 11 472]]\n"
     ]
    }
   ],
   "source": [
    "print('F1 VALIDAZIONE')\n",
    "print(\"Train Accuracy:\", accuracy_score(y_valid, y_pred5))\n",
    "print(classification_report(y_valid, y_pred5))\n",
    "print('matrice di confusione: RF classifier ottimizzato f1 su validation set')\n",
    "print(confusion_matrix(y_valid, y_pred5))"
   ]
  },
  {
   "cell_type": "code",
   "execution_count": 69,
   "id": "fe0265b0-c29d-4e28-b77a-96099e18ffdc",
   "metadata": {},
   "outputs": [
    {
     "name": "stdout",
     "output_type": "stream",
     "text": [
      "F1 TRAIN\n",
      "Train Accuracy: 0.9940097341819544\n",
      "              precision    recall  f1-score   support\n",
      "\n",
      "           0       0.99      1.00      0.99      1331\n",
      "           1       1.00      0.99      0.99      1340\n",
      "\n",
      "    accuracy                           0.99      2671\n",
      "   macro avg       0.99      0.99      0.99      2671\n",
      "weighted avg       0.99      0.99      0.99      2671\n",
      "\n",
      "matrice di confusione: RF classifier ottimizzato f1 su training set\n",
      "[[1325    6]\n",
      " [  10 1330]]\n"
     ]
    }
   ],
   "source": [
    "print('F1 TRAIN')\n",
    "print(\"Train Accuracy:\", accuracy_score(y_train, y_pred6))\n",
    "print(classification_report(y_train, y_pred6))\n",
    "print('matrice di confusione: RF classifier ottimizzato f1 su training set')\n",
    "print(confusion_matrix(y_train, y_pred6))"
   ]
  },
  {
   "cell_type": "code",
   "execution_count": 71,
   "id": "2c61c698-00f9-4d35-94a1-f015f78c9d10",
   "metadata": {},
   "outputs": [
    {
     "name": "stdout",
     "output_type": "stream",
     "text": [
      "MCC VALIDAZIONE\n",
      "Train Accuracy: 0.9719101123595506\n",
      "              precision    recall  f1-score   support\n",
      "\n",
      "           0       0.97      0.97      0.97       407\n",
      "           1       0.97      0.98      0.97       483\n",
      "\n",
      "    accuracy                           0.97       890\n",
      "   macro avg       0.97      0.97      0.97       890\n",
      "weighted avg       0.97      0.97      0.97       890\n",
      "\n",
      "matrice di confusione: RF classifier ottimizzato mcc su validation set\n",
      "[[394  13]\n",
      " [ 12 471]]\n"
     ]
    }
   ],
   "source": [
    "print('MCC VALIDAZIONE')\n",
    "print(\"Train Accuracy:\", accuracy_score(y_valid, y_pred7))\n",
    "print(classification_report(y_valid, y_pred7))\n",
    "print('matrice di confusione: RF classifier ottimizzato mcc su validation set')\n",
    "print(confusion_matrix(y_valid, y_pred7))"
   ]
  },
  {
   "cell_type": "code",
   "execution_count": 73,
   "id": "5fc03059-4619-46f5-a498-8fb25e1ffdcf",
   "metadata": {},
   "outputs": [
    {
     "name": "stdout",
     "output_type": "stream",
     "text": [
      "MCC TRAIN\n",
      "Train Accuracy: 0.9928865593410707\n",
      "              precision    recall  f1-score   support\n",
      "\n",
      "           0       0.99      0.99      0.99      1331\n",
      "           1       0.99      0.99      0.99      1340\n",
      "\n",
      "    accuracy                           0.99      2671\n",
      "   macro avg       0.99      0.99      0.99      2671\n",
      "weighted avg       0.99      0.99      0.99      2671\n",
      "\n",
      "matrice di confusione: RF classifier ottimizzato mcc su training set\n",
      "[[1323    8]\n",
      " [  11 1329]]\n"
     ]
    }
   ],
   "source": [
    "print('MCC TRAIN')\n",
    "print(\"Train Accuracy:\", accuracy_score(y_train, y_pred8))\n",
    "print(classification_report(y_train, y_pred8))\n",
    "print('matrice di confusione: RF classifier ottimizzato mcc su training set')\n",
    "print(confusion_matrix(y_train, y_pred8))"
   ]
  },
  {
   "cell_type": "markdown",
   "id": "8ed8d25b-3320-4b15-9eff-a167e8e69955",
   "metadata": {},
   "source": [
    "In questo caso vediamo in generale che abbiamo meno overfitting, ma non notiamo un miglioramento sostanziale nel predire il set di validazione. Cio' nonostante, seppur di poco, il modello che utilizza accuracy come scoring pare essere il migliore.\n",
    "\n",
    "NB! questo risultato si e' notato ripetendo il training piu' volte. Puo' capitare ogni tanto che lo scoring migliore sia uno diverso da accuracy, ma ripetendo il fit piu' volte accuracy risulta performare meglio il piu' delle volte. In ogni caso, la differenza e' sempre minima."
   ]
  },
  {
   "cell_type": "code",
   "execution_count": 76,
   "id": "a1af3110-04f6-4919-a2ee-13aa9e7c7b38",
   "metadata": {},
   "outputs": [],
   "source": [
    "model_rf_best = model_rf_acc\n",
    "param_rf_best = param_rf_acc"
   ]
  },
  {
   "cell_type": "markdown",
   "id": "3bed6a93-5170-4e3e-89d5-b3e6323e0384",
   "metadata": {},
   "source": [
    "E' interessante vedere quali sono pesi dei vari parametri:"
   ]
  },
  {
   "cell_type": "code",
   "execution_count": 79,
   "id": "c360731b-8ba3-424e-916f-1b6d138212a9",
   "metadata": {},
   "outputs": [],
   "source": [
    "# Metto i pesi delle features in un dataframe\n",
    "model_rf_best_df = pd.DataFrame({'feature' : x_train.columns, 'peso':model_rf_best.feature_importances_})"
   ]
  },
  {
   "cell_type": "code",
   "execution_count": 81,
   "id": "64589463-4832-4f77-95fc-b5558034661d",
   "metadata": {},
   "outputs": [
    {
     "data": {
      "text/html": [
       "<div>\n",
       "<style scoped>\n",
       "    .dataframe tbody tr th:only-of-type {\n",
       "        vertical-align: middle;\n",
       "    }\n",
       "\n",
       "    .dataframe tbody tr th {\n",
       "        vertical-align: top;\n",
       "    }\n",
       "\n",
       "    .dataframe thead th {\n",
       "        text-align: right;\n",
       "    }\n",
       "</style>\n",
       "<table border=\"1\" class=\"dataframe\">\n",
       "  <thead>\n",
       "    <tr style=\"text-align: right;\">\n",
       "      <th></th>\n",
       "      <th>feature</th>\n",
       "      <th>peso</th>\n",
       "    </tr>\n",
       "  </thead>\n",
       "  <tbody>\n",
       "    <tr>\n",
       "      <th>0</th>\n",
       "      <td>fascia_giorno</td>\n",
       "      <td>0.003226</td>\n",
       "    </tr>\n",
       "    <tr>\n",
       "      <th>1</th>\n",
       "      <td>UBIC_CELL</td>\n",
       "      <td>0.159191</td>\n",
       "    </tr>\n",
       "    <tr>\n",
       "      <th>2</th>\n",
       "      <td>n_linee</td>\n",
       "      <td>0.135982</td>\n",
       "    </tr>\n",
       "    <tr>\n",
       "      <th>3</th>\n",
       "      <td>energy</td>\n",
       "      <td>0.615436</td>\n",
       "    </tr>\n",
       "    <tr>\n",
       "      <th>4</th>\n",
       "      <td>temp_min</td>\n",
       "      <td>0.013560</td>\n",
       "    </tr>\n",
       "    <tr>\n",
       "      <th>5</th>\n",
       "      <td>temp_max</td>\n",
       "      <td>0.011124</td>\n",
       "    </tr>\n",
       "    <tr>\n",
       "      <th>6</th>\n",
       "      <td>temp_mean</td>\n",
       "      <td>0.010568</td>\n",
       "    </tr>\n",
       "    <tr>\n",
       "      <th>7</th>\n",
       "      <td>tweet_count</td>\n",
       "      <td>0.032423</td>\n",
       "    </tr>\n",
       "    <tr>\n",
       "      <th>8</th>\n",
       "      <td>precip_mm</td>\n",
       "      <td>0.004784</td>\n",
       "    </tr>\n",
       "    <tr>\n",
       "      <th>9</th>\n",
       "      <td>NOV</td>\n",
       "      <td>0.001421</td>\n",
       "    </tr>\n",
       "    <tr>\n",
       "      <th>10</th>\n",
       "      <td>DEC</td>\n",
       "      <td>0.001341</td>\n",
       "    </tr>\n",
       "    <tr>\n",
       "      <th>11</th>\n",
       "      <td>LU</td>\n",
       "      <td>0.000963</td>\n",
       "    </tr>\n",
       "    <tr>\n",
       "      <th>12</th>\n",
       "      <td>MA</td>\n",
       "      <td>0.000909</td>\n",
       "    </tr>\n",
       "    <tr>\n",
       "      <th>13</th>\n",
       "      <td>ME</td>\n",
       "      <td>0.000690</td>\n",
       "    </tr>\n",
       "    <tr>\n",
       "      <th>14</th>\n",
       "      <td>GI</td>\n",
       "      <td>0.001309</td>\n",
       "    </tr>\n",
       "    <tr>\n",
       "      <th>15</th>\n",
       "      <td>VE</td>\n",
       "      <td>0.007072</td>\n",
       "    </tr>\n",
       "  </tbody>\n",
       "</table>\n",
       "</div>"
      ],
      "text/plain": [
       "          feature      peso\n",
       "0   fascia_giorno  0.003226\n",
       "1       UBIC_CELL  0.159191\n",
       "2         n_linee  0.135982\n",
       "3          energy  0.615436\n",
       "4        temp_min  0.013560\n",
       "5        temp_max  0.011124\n",
       "6       temp_mean  0.010568\n",
       "7     tweet_count  0.032423\n",
       "8       precip_mm  0.004784\n",
       "9             NOV  0.001421\n",
       "10            DEC  0.001341\n",
       "11             LU  0.000963\n",
       "12             MA  0.000909\n",
       "13             ME  0.000690\n",
       "14             GI  0.001309\n",
       "15             VE  0.007072"
      ]
     },
     "execution_count": 81,
     "metadata": {},
     "output_type": "execute_result"
    }
   ],
   "source": [
    "model_rf_best_df"
   ]
  },
  {
   "cell_type": "code",
   "execution_count": 83,
   "id": "f47da045-767b-487c-b60f-84a7651df636",
   "metadata": {},
   "outputs": [
    {
     "data": {
      "image/png": "[encoded data removed]",
      "text/plain": [
       "<Figure size 1500x1000 with 1 Axes>"
      ]
     },
     "metadata": {},
     "output_type": "display_data"
    }
   ],
   "source": [
    "fig, ax = plt.subplots(figsize=(15, 10))\n",
    "df_plot = model_rf_best_df.sort_values('peso', ascending=False).copy()\n",
    "sns.barplot(x='peso', y='feature', data=model_rf_best_df, order=df_plot['feature'] )\n",
    "del df_plot"
   ]
  },
  {
   "cell_type": "markdown",
   "id": "f40f9ba4-9728-45c7-81c9-3957b25b0572",
   "metadata": {},
   "source": [
    "Come ci si aspetta, le features piu' importanti sono i valori energetici, il numero totale di ubicazioni nella cella e numero di linee collegate alla cella. Questa cosa ha senso perche' una cella che oggi consuma tanto, magari perche' corrisponde a una zona con molte fabbriche o abitazioni, e' probabile che consumera' molto anche domani. Il numero di ubicazioni influisce in maniera analoga: se ho tante ubicazioni in una cella, e' molto probabile che consumera' di piu' di una cella con meno ubicazioni. Stesso discordo per il numero di linee.\n",
    "\n",
    "Le temperature minima, media e massima influiscono bene o male allo stesso modo, anche se quella minima e' leggermente piu' pesante. Questo potrebbe spiegarsi con il fatto che a temperature piu' basse vengono usati maggiormente sistemi di riscaldamento.\n",
    "\n",
    "E' interessante notare come il numero di tweets influisca notevolmente di piu, di circa un fattore 2, della temperatura minima.\n",
    "\n",
    "Infine, si puo' vedere che le precipitazioni influiscono realtivamente poco, cosi come le fascie giornaliere, giorno o sera, e i giorni della settimana. L'ultimo appunto interessante e' che il giorno piu' influente e' il venerdi': un'ipotesi per spiegare questo risultato e' il fatto che il venerdi e' l'ultimo giorno di lavoro, il giorno dopo molte meno aziende e persone lavorano e quindi c'è un calo drastico nei consumi medi. Inoltre, potrebbero esserci picchi di consumo il venerdi per attivita' preparatorie per il weekend, come riscaldamento anticipato, pulizie, staccacio e spostamenti merci."
   ]
  },
  {
   "cell_type": "markdown",
   "id": "ed2ae15f-d3ff-4dff-b7cd-c5485bfecc3c",
   "metadata": {},
   "source": [
    "Scelgo allora come modello da usare model_rf_acc. \n",
    "\n",
    "Ora che ho scelto il modello voglio trovare la Treshold migliore per ottimizzare il \n",
    "true positive rate. Per farlo inizio con tracciare la ROC e calcolare la AUROC del modello.\n",
    "\n",
    "Per farlo mi serve inizialmente calcolare la probabilita' stimata dal modello per la classe 1:"
   ]
  },
  {
   "cell_type": "code",
   "execution_count": 87,
   "id": "21dca29b-b9e4-4caf-acf6-26720b7ce65d",
   "metadata": {},
   "outputs": [],
   "source": [
    "y_prob_rf_roc = model_rf_best.predict_proba(x_test)[:,1]"
   ]
  },
  {
   "cell_type": "code",
   "execution_count": 89,
   "id": "dc96ce92-5109-477a-a9ab-1815c9858a41",
   "metadata": {},
   "outputs": [],
   "source": [
    "fpr_rf, tpr_rf, roc_th = roc_curve(y_test, y_prob_rf_roc)\n",
    "roc_auc_mcc = auc(fpr_rf, tpr_rf)"
   ]
  },
  {
   "cell_type": "markdown",
   "id": "6898c9e4-5d89-4249-99e4-d464995e0ed1",
   "metadata": {},
   "source": [
    "Posso calcolare allora la miglior treshold come quella che minimizza la distanza dal punto ottimale (TPR, FPR) = (1,0)"
   ]
  },
  {
   "cell_type": "code",
   "execution_count": 92,
   "id": "905a0621-e4da-46ff-bc62-cf243118e259",
   "metadata": {},
   "outputs": [],
   "source": [
    "distance = np.sqrt((fpr_rf)**2 + (1-tpr_rf)**2)\n",
    "index_min = np.argmin(distance)\n",
    "best_roc_th = roc_th[index_min]"
   ]
  },
  {
   "cell_type": "code",
   "execution_count": 94,
   "id": "97c6f121-e008-4578-8156-856fb1d3e549",
   "metadata": {},
   "outputs": [
    {
     "data": {
      "image/png": "[encoded data removed]",
      "text/plain": [
       "<Figure size 1500x1000 with 1 Axes>"
      ]
     },
     "metadata": {},
     "output_type": "display_data"
    }
   ],
   "source": [
    "fig, ax = plt.subplots(figsize=(15, 10))\n",
    "plt.plot(fpr_rf, tpr_rf, label=f'Random Forest (AUROC = {roc_auc_mcc:.3f})\\n\\\n",
    "        best treshold = {best_roc_th:.3f}')\n",
    "plt.plot([0,1], [0,1], linestyle='--', color='gray')\n",
    "plt.xlabel('False Positive Rate')\n",
    "plt.ylabel('True Positive Rate')\n",
    "plt.title('ROC Curve - Random Forest - accuracy')\n",
    "plt.legend()\n",
    "plt.grid()"
   ]
  },
  {
   "cell_type": "markdown",
   "id": "2431524c-193f-4260-ab6d-62850455d35c",
   "metadata": {},
   "source": [
    "La ROC del modello e' decisamente buona: riusciamo ad arrivare vicini al punto ottimale e la AUROC e' molto vicina a 1.\n",
    "\n",
    "A questo punto possiamo provare a utilizzare la treshold ottimale per il nostro modello"
   ]
  },
  {
   "cell_type": "code",
   "execution_count": 97,
   "id": "cb43f970-46f8-4184-a3b6-f59f7ad7384e",
   "metadata": {},
   "outputs": [],
   "source": [
    "y_pred_rf = (y_prob_rf_roc >= best_roc_th).astype(int)"
   ]
  },
  {
   "cell_type": "code",
   "execution_count": 99,
   "id": "35210008-58db-432b-97c4-1472c50e3dd3",
   "metadata": {},
   "outputs": [
    {
     "name": "stdout",
     "output_type": "stream",
     "text": [
      "RF con miglior treshold: 0.9797979797979798\n",
      "              precision    recall  f1-score   support\n",
      "\n",
      "           0       0.99      0.97      0.98       448\n",
      "           1       0.97      0.99      0.98       443\n",
      "\n",
      "    accuracy                           0.98       891\n",
      "   macro avg       0.98      0.98      0.98       891\n",
      "weighted avg       0.98      0.98      0.98       891\n",
      "\n"
     ]
    },
    {
     "data": {
      "text/plain": [
       "Text(0.5, 1.0, 'Matrice di confusione: RF classifier con treshold migliore su test set')"
      ]
     },
     "execution_count": 99,
     "metadata": {},
     "output_type": "execute_result"
    },
    {
     "data": {
      "image/png": "[encoded data removed]",
      "text/plain": [
       "<Figure size 640x480 with 2 Axes>"
      ]
     },
     "metadata": {},
     "output_type": "display_data"
    }
   ],
   "source": [
    "print(\"RF con miglior treshold:\", accuracy_score(y_test, y_pred_rf))\n",
    "print(classification_report(y_test, y_pred_rf))\n",
    "\n",
    "ConfusionMatrixDisplay.from_predictions(y_test, y_pred_rf)\n",
    "plt.title('Matrice di confusione: RF classifier con treshold migliore su test set')"
   ]
  },
  {
   "cell_type": "markdown",
   "id": "d5a6da4f-47f3-4413-a8c4-a2228085d549",
   "metadata": {},
   "source": [
    "Notiamo che ora il nostro modello generalizza molto meglio di prima.\n",
    "\n",
    "NB! anche in questo caso si parla di un risultato in media: abbiamo notato che il modello a volte non migliora o peggiora pure di poco. in genere pero' si nota un miglioramento."
   ]
  },
  {
   "cell_type": "markdown",
   "id": "3e2bbf63-a99b-4fd9-9538-f5e369b2d2a6",
   "metadata": {},
   "source": [
    "Passiamo ora a vedere la curva precision-recall"
   ]
  },
  {
   "cell_type": "code",
   "execution_count": 103,
   "id": "1c491647-6954-4dd2-9a54-cfdee6243ce4",
   "metadata": {},
   "outputs": [],
   "source": [
    "y_pred_rf_prrec = model_rf_best.predict_proba(x_test)[:,1]\n",
    "pr_rf, rec_rf, prrec_th = precision_recall_curve(y_test, y_pred_rf_prrec)"
   ]
  },
  {
   "cell_type": "markdown",
   "id": "335c2ddb-3c46-4ce9-953b-d25b0fe3cec0",
   "metadata": {},
   "source": [
    "Anche qui trovo la soglia migliore, ovvero quella che minimizza la distanza dal punto ottimale (REC, PREC) = (1,1)"
   ]
  },
  {
   "cell_type": "code",
   "execution_count": 106,
   "id": "500de021-e22d-49d8-ae28-63259b84fa2a",
   "metadata": {},
   "outputs": [],
   "source": [
    "distance = np.sqrt((1-rec_rf)**2 + (1-pr_rf)**2)\n",
    "index_min = np.argmin(distance)\n",
    "best_prrec_th = prrec_th[index_min]"
   ]
  },
  {
   "cell_type": "code",
   "execution_count": 270,
   "id": "bef45f6d-77fa-472e-b25d-587e5d155cb7",
   "metadata": {},
   "outputs": [
    {
     "data": {
      "image/png": "[encoded data removed]",
      "text/plain": [
       "<Figure size 640x480 with 1 Axes>"
      ]
     },
     "metadata": {},
     "output_type": "display_data"
    }
   ],
   "source": [
    "plt.plot(rec_rf, pr_rf, label=f'best treshold = {best_prrec_th:.3f}')\n",
    "plt.xlabel('Recall')\n",
    "plt.ylabel('Precision')\n",
    "plt.title('Precision-Recall Curve')\n",
    "plt.legend()\n",
    "plt.grid(True)\n",
    "plt.show()"
   ]
  },
  {
   "cell_type": "markdown",
   "id": "6c10ad7c-adc8-45a5-947a-deb9722b9c85",
   "metadata": {},
   "source": [
    "Notiamo quindi che la soglia migliore rimane sempre la stessa"
   ]
  },
  {
   "cell_type": "markdown",
   "id": "942703a0-cddb-4382-b6e8-2bfdc55d8593",
   "metadata": {},
   "source": [
    "Ora che abbiamo modello e treshold migliori, rieffettuiamo il training del modello sull'insieme di training e validazione assieme:"
   ]
  },
  {
   "cell_type": "code",
   "execution_count": 112,
   "id": "db1e8090-b1c4-4232-bdab-9cb608128aed",
   "metadata": {},
   "outputs": [],
   "source": [
    "x_valut = pd.concat([x_train, x_valid])\n",
    "y_valut = pd.concat([y_train, y_valid])"
   ]
  },
  {
   "cell_type": "code",
   "execution_count": 114,
   "id": "88b4871b-bc56-4170-9bcb-8a228fa2afbb",
   "metadata": {},
   "outputs": [],
   "source": [
    "model_rf_final = RandomForestClassifier(**param_rf_best, random_state=rdm_st)\n",
    "model_rf_final.fit(x_valut, y_valut)\n",
    "\n",
    "y_prob_fin = model_rf_final.predict_proba(x_test)[:,1]\n",
    "y_pred_fin = (y_prob_fin >= best_roc_th).astype(int)"
   ]
  },
  {
   "cell_type": "code",
   "execution_count": 187,
   "id": "2cac6995-0cd9-499f-b47f-6e884a379fee",
   "metadata": {},
   "outputs": [
    {
     "name": "stdout",
     "output_type": "stream",
     "text": [
      "RF con miglior treshold su train e validazione: 0.9797979797979798\n",
      "              precision    recall  f1-score   support\n",
      "\n",
      "           0       0.98      0.98      0.98       448\n",
      "           1       0.98      0.98      0.98       443\n",
      "\n",
      "    accuracy                           0.98       891\n",
      "   macro avg       0.98      0.98      0.98       891\n",
      "weighted avg       0.98      0.98      0.98       891\n",
      "\n"
     ]
    },
    {
     "data": {
      "text/plain": [
       "Text(0.5, 1.0, 'Matrice di confusione: RF classifier train + validazione con treshold migliore su test set')"
      ]
     },
     "execution_count": 187,
     "metadata": {},
     "output_type": "execute_result"
    },
    {
     "data": {
      "image/png": "[encoded data removed]",
      "text/plain": [
       "<Figure size 640x480 with 2 Axes>"
      ]
     },
     "metadata": {},
     "output_type": "display_data"
    }
   ],
   "source": [
    "print(\"RF con miglior treshold su train e validazione:\", accuracy_score(y_test, y_pred_fin))\n",
    "print(classification_report(y_test, y_pred_fin))\n",
    "\n",
    "ConfusionMatrixDisplay.from_predictions(y_test, y_pred_fin)\n",
    "plt.title('Matrice di confusione: RF classifier train + validazione con treshold migliore su test set')"
   ]
  },
  {
   "cell_type": "markdown",
   "id": "b9f518b3-ef72-47b1-b3b8-2b64b02d156e",
   "metadata": {},
   "source": [
    "Si nota che in genere la performance del modello migliora rispetto al caso iniziale. Come gia' detto questo e' solo un risultato medio, rieffettuando piu' volte il fit il modello puo' non migliorare o peggiorare le sue performance, ma in genere le migliora."
   ]
  },
  {
   "cell_type": "markdown",
   "id": "a4930450-0a34-4ec6-9c99-8b4b26ec853d",
   "metadata": {},
   "source": [
    "# Regressore Logistico"
   ]
  },
  {
   "cell_type": "markdown",
   "id": "10b7fac6-1701-415b-bd3a-7ac4676f16dd",
   "metadata": {},
   "source": [
    "E' importante sottolineare che il Regressore logistico ha prestazioni generalmente inferiori rispetto alle Random Forest se le relazioni tra le features non sono tutte lineari. il regressore logistico e' infatti un modello lineare e non riesce dunque a classificare bene se lo spazio delle features non e' linearmente separabile, a differenza delle Random Forest che non sono modelli lineari. Nel nostro caso ci aspettiamo quindi una prestazione peggiore delle Random Forest, ma vale la pena provare."
   ]
  },
  {
   "cell_type": "code",
   "execution_count": 121,
   "id": "37030350-0920-4f20-a217-f5295d152004",
   "metadata": {},
   "outputs": [
    {
     "name": "stdout",
     "output_type": "stream",
     "text": [
      "LR: 0.9606741573033708\n",
      "              precision    recall  f1-score   support\n",
      "\n",
      "           0       0.96      0.96      0.96       407\n",
      "           1       0.96      0.96      0.96       483\n",
      "\n",
      "    accuracy                           0.96       890\n",
      "   macro avg       0.96      0.96      0.96       890\n",
      "weighted avg       0.96      0.96      0.96       890\n",
      "\n"
     ]
    },
    {
     "data": {
      "text/plain": [
       "Text(0.5, 1.0, 'Matrice di confusione: LR classifier su validation set')"
      ]
     },
     "execution_count": 121,
     "metadata": {},
     "output_type": "execute_result"
    },
    {
     "data": {
      "image/png": "[encoded data removed]",
      "text/plain": [
       "<Figure size 640x480 with 2 Axes>"
      ]
     },
     "metadata": {},
     "output_type": "display_data"
    }
   ],
   "source": [
    "# Procedo in maniera standard, usando pipeline e un misto tra regolarizzatore Ridge e Lasso con elasticnet\n",
    "model_lr1 = LogisticRegressionCV(\n",
    "    penalty='elasticnet',\n",
    "    solver='saga',\n",
    "    l1_ratios=[0,0.25,0.5,0.75,1.0],\n",
    "    max_iter=2500,\n",
    "    tol=0.001\n",
    ")\n",
    "\n",
    "scal = StandardScaler()\n",
    "\n",
    "pipe_lr1 = Pipeline([('scaler',scal), ('model_lr1',model_lr1)])\n",
    "pipe_lr1.fit(x_train, y_train)\n",
    "y_pred_lr1 = pipe_lr1.predict(x_valid)\n",
    "\n",
    "print(\"LR:\", accuracy_score(y_valid, y_pred_lr1))\n",
    "print(classification_report(y_valid, y_pred_lr1))\n",
    "\n",
    "ConfusionMatrixDisplay.from_estimator(pipe_lr1, x_valid, y_valid)\n",
    "plt.title('Matrice di confusione: LR classifier su validation set')\n"
   ]
  },
  {
   "cell_type": "markdown",
   "id": "b2e8dd76-56c6-477d-869a-d95967514ded",
   "metadata": {},
   "source": [
    "Notiamo subito che la matrice di confusione e' peggiore di quella ottenuta con le Random Forest, come previsto. Diamo un'occhiata ai coefficienti:"
   ]
  },
  {
   "cell_type": "code",
   "execution_count": 124,
   "id": "6aad1c7e-047c-4d25-a84a-2917da5aa1e7",
   "metadata": {},
   "outputs": [],
   "source": [
    "df_coef = pd.DataFrame((model_lr1.coef_.T),columns=['coefficients'],index=x_train.columns)\n",
    "df_coef = df_coef.sort_values('coefficients', ascending=True)"
   ]
  },
  {
   "cell_type": "code",
   "execution_count": 126,
   "id": "950d0245-d0d3-4696-b8c5-15f9de4796b8",
   "metadata": {},
   "outputs": [
    {
     "data": {
      "text/plain": [
       "<Axes: >"
      ]
     },
     "execution_count": 126,
     "metadata": {},
     "output_type": "execute_result"
    },
    {
     "data": {
      "image/png": "[encoded data removed]",
      "text/plain": [
       "<Figure size 700x600 with 1 Axes>"
      ]
     },
     "metadata": {},
     "output_type": "display_data"
    }
   ],
   "source": [
    "df_coef.plot.barh(figsize=(7,6))"
   ]
  },
  {
   "cell_type": "markdown",
   "id": "a75e45d1-5a94-4964-a22a-add35e71d78c",
   "metadata": {},
   "source": [
    "E' interessante notare come in questo caso abbiamo un'ordine leggermente diverso per importanza rispetto alle Random Forest: qui il numero di tweet scende di molto cosi come la temperatura media mentre la temperatura minima e il venerdi' assumono un peso negativo. Questo ha senso perche' una temperatura minima piu' alta vuol dire che sono necessari meno consumi elettrici per riscaldare, e il sabato, come detto prima, molte aziende e negozi chiudono facendo scendere i consumi medi.\n",
    "\n",
    "Energia, numero di ubicazioni per cella e linee collegate alla cella rimangono invece sempre ai primi tre posti."
   ]
  },
  {
   "cell_type": "markdown",
   "id": "829e2f14-03a1-45f3-8a92-3727e89da557",
   "metadata": {},
   "source": [
    "Proviamo ad usare GridSearchCV anche in questo caso:"
   ]
  },
  {
   "cell_type": "code",
   "execution_count": 130,
   "id": "9f9ca9d8-79c9-4473-975e-067aed9eeeed",
   "metadata": {},
   "outputs": [],
   "source": [
    "# Creiamo un modello di Logistic Regression\n",
    "model_lr2 = LogisticRegression(\n",
    "    solver='saga',\n",
    ")\n",
    "\n",
    "scal = StandardScaler()\n",
    "# Creiamo la pipeline con questo modello\n",
    "pipe_lr2 = Pipeline([('scaler',scal), ('model_lr2',model_lr2)])"
   ]
  },
  {
   "cell_type": "code",
   "execution_count": 132,
   "id": "02ebc704-a6e5-479d-bfbc-69396777854e",
   "metadata": {},
   "outputs": [],
   "source": [
    "# Griglia di parametri per GridSearchCV\n",
    "param_grid = {\n",
    "    'model_lr2__penalty': ['elasticnet'],\n",
    "    'model_lr2__C': np.logspace(-4, 4, 10),\n",
    "    'model_lr2__l1_ratio': [0.001, 0.01, 0.1, 0.5, 0.75, 1],\n",
    "    'model_lr2__max_iter': [1000, 2500, 3500],\n",
    "    'model_lr2__tol': [1e-4, 1e-3, 1e-2]\n",
    "}\n",
    "cv = 5"
   ]
  },
  {
   "cell_type": "code",
   "execution_count": 134,
   "id": "9960e396-cdab-422b-8166-2525b42ad761",
   "metadata": {},
   "outputs": [],
   "source": [
    "# Creo il modello GridSearch con la funzione best_model creata prima\n",
    "model_lr_grsc_acc, param_lr_acc = best_model(pipe_lr2, param_grid, x_train, y_train, cv=cv, scoring='accuracy')\n",
    "model_lr_grsc_f1, param_lr_f1 = best_model(pipe_lr2, param_grid, x_train, y_train, cv=cv, scoring='f1')\n",
    "model_lr_grsc_mcc, param_lr_mcc = best_model(pipe_lr2, param_grid, x_train, y_train, cv=cv, scoring='matthews_corrcoef')"
   ]
  },
  {
   "cell_type": "code",
   "execution_count": 136,
   "id": "57b27061-6a38-46f2-b15a-a22670c1f1ae",
   "metadata": {},
   "outputs": [
    {
     "name": "stdout",
     "output_type": "stream",
     "text": [
      "{'model_lr2__C': 2.782559402207126, 'model_lr2__l1_ratio': 0.001, 'model_lr2__max_iter': 1000, 'model_lr2__penalty': 'elasticnet', 'model_lr2__tol': 0.001}\n",
      "{'model_lr2__C': 2.782559402207126, 'model_lr2__l1_ratio': 0.001, 'model_lr2__max_iter': 1000, 'model_lr2__penalty': 'elasticnet', 'model_lr2__tol': 0.001}\n",
      "{'model_lr2__C': 2.782559402207126, 'model_lr2__l1_ratio': 0.001, 'model_lr2__max_iter': 1000, 'model_lr2__penalty': 'elasticnet', 'model_lr2__tol': 0.001}\n"
     ]
    }
   ],
   "source": [
    "# Stampo i parametri\n",
    "print(param_lr_acc)\n",
    "print(param_lr_f1)\n",
    "print(param_lr_mcc)"
   ]
  },
  {
   "cell_type": "code",
   "execution_count": 138,
   "id": "0fad0090-5144-4bba-8e69-e66dfcc02e09",
   "metadata": {},
   "outputs": [],
   "source": [
    "# Predico l'insieme di validazione\n",
    "y_pred_lr_acc = model_lr_grsc_acc.predict(x_valid)\n",
    "y_pred_lr_f1 = model_lr_grsc_f1.predict(x_valid)\n",
    "y_pred_lr_mcc = model_lr_grsc_mcc.predict(x_valid)"
   ]
  },
  {
   "cell_type": "markdown",
   "id": "9a955487-797d-41d0-9986-49e7e645a877",
   "metadata": {},
   "source": [
    "Guardiamo lo score e la matrice di confusione dei vari modelli"
   ]
  },
  {
   "cell_type": "code",
   "execution_count": 141,
   "id": "9fbe5a58-4fb8-4763-8d8f-6ac514656a4c",
   "metadata": {},
   "outputs": [
    {
     "name": "stdout",
     "output_type": "stream",
     "text": [
      "LR accuracy: 0.9595505617977528\n",
      "              precision    recall  f1-score   support\n",
      "\n",
      "           0       0.96      0.96      0.96       407\n",
      "           1       0.96      0.96      0.96       483\n",
      "\n",
      "    accuracy                           0.96       890\n",
      "   macro avg       0.96      0.96      0.96       890\n",
      "weighted avg       0.96      0.96      0.96       890\n",
      "\n",
      "matrice di confusione: RF classifier ottimizzato mcc su validation set\n",
      "[[389  18]\n",
      " [ 18 465]]\n"
     ]
    }
   ],
   "source": [
    "print(\"LR accuracy:\", accuracy_score(y_valid, y_pred_lr_acc))\n",
    "print(classification_report(y_valid, y_pred_lr_acc))\n",
    "\n",
    "print('matrice di confusione: RF classifier ottimizzato mcc su validation set')\n",
    "print(confusion_matrix(y_valid, y_pred_lr_acc))"
   ]
  },
  {
   "cell_type": "code",
   "execution_count": 143,
   "id": "da0f382c-a187-4a78-b7b4-bb65a8fd501c",
   "metadata": {},
   "outputs": [
    {
     "name": "stdout",
     "output_type": "stream",
     "text": [
      "LR accuracy: 0.9595505617977528\n",
      "              precision    recall  f1-score   support\n",
      "\n",
      "           0       0.96      0.96      0.96       407\n",
      "           1       0.96      0.96      0.96       483\n",
      "\n",
      "    accuracy                           0.96       890\n",
      "   macro avg       0.96      0.96      0.96       890\n",
      "weighted avg       0.96      0.96      0.96       890\n",
      "\n",
      "matrice di confusione: RF classifier ottimizzato mcc su validation set\n",
      "[[389  18]\n",
      " [ 18 465]]\n"
     ]
    }
   ],
   "source": [
    "print(\"LR accuracy:\", accuracy_score(y_valid, y_pred_lr_f1))\n",
    "print(classification_report(y_valid, y_pred_lr_f1))\n",
    "\n",
    "print('matrice di confusione: RF classifier ottimizzato mcc su validation set')\n",
    "print(confusion_matrix(y_valid, y_pred_lr_f1))"
   ]
  },
  {
   "cell_type": "code",
   "execution_count": 145,
   "id": "824e7eb6-83ef-4cc5-971e-0f8aa4ac5bde",
   "metadata": {},
   "outputs": [
    {
     "name": "stdout",
     "output_type": "stream",
     "text": [
      "LR accuracy: 0.9595505617977528\n",
      "              precision    recall  f1-score   support\n",
      "\n",
      "           0       0.96      0.96      0.96       407\n",
      "           1       0.96      0.96      0.96       483\n",
      "\n",
      "    accuracy                           0.96       890\n",
      "   macro avg       0.96      0.96      0.96       890\n",
      "weighted avg       0.96      0.96      0.96       890\n",
      "\n",
      "matrice di confusione: RF classifier ottimizzato mcc su validation set\n",
      "[[389  18]\n",
      " [ 18 465]]\n"
     ]
    }
   ],
   "source": [
    "print(\"LR accuracy:\", accuracy_score(y_valid, y_pred_lr_mcc))\n",
    "print(classification_report(y_valid, y_pred_lr_mcc))\n",
    "\n",
    "print('matrice di confusione: RF classifier ottimizzato mcc su validation set')\n",
    "print(confusion_matrix(y_valid, y_pred_lr_mcc))"
   ]
  },
  {
   "cell_type": "markdown",
   "id": "b941b6aa-154d-4460-b335-3bed3d2de501",
   "metadata": {},
   "source": [
    "Provando anche diverse griglie di parametri si nota che i parametri migliori sono sempre gli stessi per tutte e tre le metriche: questo  ci fa capire che le classi sono poco sensibili alla metrica scelta, cosa che puo' essere dovuta dal fatto di avere classi bilanciate.\n",
    "\n",
    "Scegliamo allora il modello con accuracy come metrica come modello migliore, anche se non cambia nulla dagli altri due. Procediamo a disegnare la ROC e a trovare la treshold migliore:"
   ]
  },
  {
   "cell_type": "markdown",
   "id": "5419cfc5-b1e4-46d0-8c24-583f539b2818",
   "metadata": {},
   "source": [
    "Procediamo come nel caso delle Random Forest"
   ]
  },
  {
   "cell_type": "code",
   "execution_count": 156,
   "id": "fc675193-70d2-4013-a780-6d9ec5779a08",
   "metadata": {},
   "outputs": [],
   "source": [
    "model_lr_best = model_lr_grsc_acc\n",
    "param_lr_best = param_lr_acc"
   ]
  },
  {
   "cell_type": "code",
   "execution_count": 158,
   "id": "289ab9d6-f37e-424e-a858-24a5ada1deb6",
   "metadata": {},
   "outputs": [],
   "source": [
    "y_prob_lr_roc = model_lr_best.predict_proba(x_test)[:,1]"
   ]
  },
  {
   "cell_type": "code",
   "execution_count": 160,
   "id": "a99f2046-1103-4d93-b3a9-5d943995bc25",
   "metadata": {},
   "outputs": [],
   "source": [
    "fpr_lr, tpr_lr, roc_th_lr = roc_curve(y_test, y_prob_lr_roc)\n",
    "roc_auc_lr = auc(fpr_lr, tpr_lr)"
   ]
  },
  {
   "cell_type": "markdown",
   "id": "02de5732-38ee-442f-8ecf-9f03f9679efa",
   "metadata": {},
   "source": [
    "Di nuovo troviamo la treshold che minimizza la distanza dal punto ottimale (TPR, FPR) = (1,0)"
   ]
  },
  {
   "cell_type": "code",
   "execution_count": 163,
   "id": "a736c8b4-e19c-44fe-91a9-e568195c6647",
   "metadata": {},
   "outputs": [],
   "source": [
    "distance = np.sqrt((fpr_lr)**2 + (1-tpr_lr)**2)\n",
    "index_min = np.argmin(distance)\n",
    "best_roc_th_lr = roc_th_lr[index_min]"
   ]
  },
  {
   "cell_type": "code",
   "execution_count": 165,
   "id": "e8404af7-adca-41b1-b13e-e206abc23d8b",
   "metadata": {},
   "outputs": [
    {
     "data": {
      "image/png": "[encoded data removed]",
      "text/plain": [
       "<Figure size 1500x1000 with 1 Axes>"
      ]
     },
     "metadata": {},
     "output_type": "display_data"
    }
   ],
   "source": [
    "fig, ax = plt.subplots(figsize=(15, 10))\n",
    "plt.plot(fpr_lr, tpr_lr, label=f'Logistic Regressor (AUROC = {roc_auc_lr:.3f})\\n\\\n",
    "        best treshold = {best_roc_th_lr:.3f}')\n",
    "plt.plot([0,1], [0,1], linestyle='--', color='gray')\n",
    "plt.xlabel('False Positive Rate')\n",
    "plt.ylabel('True Positive Rate')\n",
    "plt.title('ROC Curve - Logistic Regressor - accuracy')\n",
    "plt.legend()\n",
    "plt.grid()"
   ]
  },
  {
   "cell_type": "code",
   "execution_count": 167,
   "id": "8d2957e0-11ba-43f4-8334-ae4c0eb53389",
   "metadata": {},
   "outputs": [],
   "source": [
    "y_pred_lr = (y_prob_lr_roc >= best_roc_th_lr).astype(int)"
   ]
  },
  {
   "cell_type": "code",
   "execution_count": 169,
   "id": "33288383-b986-48b8-b3f2-3fcc95c35639",
   "metadata": {},
   "outputs": [
    {
     "name": "stdout",
     "output_type": "stream",
     "text": [
      "LR con miglior treshold: 0.9708193041526375\n",
      "              precision    recall  f1-score   support\n",
      "\n",
      "           0       0.98      0.96      0.97       448\n",
      "           1       0.96      0.98      0.97       443\n",
      "\n",
      "    accuracy                           0.97       891\n",
      "   macro avg       0.97      0.97      0.97       891\n",
      "weighted avg       0.97      0.97      0.97       891\n",
      "\n"
     ]
    },
    {
     "data": {
      "text/plain": [
       "Text(0.5, 1.0, 'Matrice di confusione: LR classifier con treshold migliore su test set')"
      ]
     },
     "execution_count": 169,
     "metadata": {},
     "output_type": "execute_result"
    },
    {
     "data": {
      "image/png": "[encoded data removed]",
      "text/plain": [
       "<Figure size 640x480 with 2 Axes>"
      ]
     },
     "metadata": {},
     "output_type": "display_data"
    }
   ],
   "source": [
    "print(\"LR con miglior treshold:\", accuracy_score(y_test, y_pred_lr))\n",
    "print(classification_report(y_test, y_pred_lr))\n",
    "\n",
    "ConfusionMatrixDisplay.from_predictions(y_test, y_pred_lr)\n",
    "plt.title('Matrice di confusione: LR classifier con treshold migliore su test set')"
   ]
  },
  {
   "cell_type": "markdown",
   "id": "81b3e9e2-e18d-4815-adaa-76e1a5d19fdf",
   "metadata": {},
   "source": [
    "Notiamo che in questo caso la matrice di confusione milgiora, i falsi positivi sono rimasti gli stessi mentre si sono quasi dimezzati i falsi negativi.\n",
    "\n",
    "Procediamo con la curva precision-recall"
   ]
  },
  {
   "cell_type": "code",
   "execution_count": 172,
   "id": "eb0b79a7-7ef8-4f88-a4a7-2b05ace4ed8f",
   "metadata": {},
   "outputs": [],
   "source": [
    "y_pred_lr_prrec = model_lr_best.predict_proba(x_test)[:,1]\n",
    "pr_lr, rec_lr, prrec_th_lr = precision_recall_curve(y_test, y_pred_lr_prrec)"
   ]
  },
  {
   "cell_type": "markdown",
   "id": "0a09195e-3a0c-4a04-9283-4612345f1d6f",
   "metadata": {},
   "source": [
    "Anche qui trovo di nuovo la soglia migliore, ovvero quella che minimizza la distanza dal punto ottimale (REC, PREC) = (1,1)"
   ]
  },
  {
   "cell_type": "code",
   "execution_count": 175,
   "id": "8f1e0520-aac3-4616-a2ea-65aa3efbffef",
   "metadata": {},
   "outputs": [],
   "source": [
    "distance = np.sqrt((1-rec_lr)**2 + (1-pr_lr)**2)\n",
    "index_min = np.argmin(distance)\n",
    "best_prrec_th_lr = prrec_th_lr[index_min]"
   ]
  },
  {
   "cell_type": "code",
   "execution_count": 177,
   "id": "a22b6200-c59b-4ef7-8438-d38060741d1d",
   "metadata": {},
   "outputs": [
    {
     "data": {
      "image/png": "[encoded data removed]",
      "text/plain": [
       "<Figure size 640x480 with 1 Axes>"
      ]
     },
     "metadata": {},
     "output_type": "display_data"
    }
   ],
   "source": [
    "plt.plot(rec_lr, pr_lr, label=f'best treshold = {best_prrec_th_lr:.3f}')\n",
    "plt.xlabel('Recall')\n",
    "plt.ylabel('Precision')\n",
    "plt.title('Precision-Recall Curve')\n",
    "plt.legend()\n",
    "plt.grid(True)\n",
    "plt.show()"
   ]
  },
  {
   "cell_type": "markdown",
   "id": "a2f8fb58-a862-45f2-94a3-db95d22136e6",
   "metadata": {},
   "source": [
    "Anche in questo caso la treshold rimane la stessa della ROC. Questo e' probabilmente dovuto di nuovo al fatto che abbiamo un dataset estremamente bilanciato, dato che durante la EDA abbiamo scelto la mediana come soglia per separare celle ad alta e bassa energia."
   ]
  },
  {
   "cell_type": "markdown",
   "id": "7ed0a542-f23c-47f1-90fa-f253e0c89942",
   "metadata": {},
   "source": [
    "Concludiamo riaddestrando il modello sull'insieme creato in precedenza che unisce train e validazione"
   ]
  },
  {
   "cell_type": "code",
   "execution_count": 181,
   "id": "c7a6f588-d77e-461f-83c8-2e8dd8246deb",
   "metadata": {},
   "outputs": [],
   "source": [
    "pipe_lr2.set_params(**param_lr_best)\n",
    "pipe_lr2.fit(x_valut, y_valut)\n",
    "\n",
    "y_prob_fin_lr = pipe_lr2.predict_proba(x_test)[:,1]\n",
    "y_pred_fin_lr = (y_prob_fin_lr >= best_roc_th_lr).astype(int)"
   ]
  },
  {
   "cell_type": "code",
   "execution_count": 183,
   "id": "fbb6dbbc-2d91-4e1d-a3b0-ee3a6feb3772",
   "metadata": {},
   "outputs": [
    {
     "name": "stdout",
     "output_type": "stream",
     "text": [
      "LR con miglior treshold su train e validazione: 0.9696969696969697\n",
      "              precision    recall  f1-score   support\n",
      "\n",
      "           0       0.98      0.96      0.97       448\n",
      "           1       0.96      0.98      0.97       443\n",
      "\n",
      "    accuracy                           0.97       891\n",
      "   macro avg       0.97      0.97      0.97       891\n",
      "weighted avg       0.97      0.97      0.97       891\n",
      "\n"
     ]
    },
    {
     "data": {
      "text/plain": [
       "Text(0.5, 1.0, 'Matrice di confusione: LR classifier train + validazione con treshold migliore su test set')"
      ]
     },
     "execution_count": 183,
     "metadata": {},
     "output_type": "execute_result"
    },
    {
     "data": {
      "image/png": "[encoded data removed]",
      "text/plain": [
       "<Figure size 640x480 with 2 Axes>"
      ]
     },
     "metadata": {},
     "output_type": "display_data"
    }
   ],
   "source": [
    "print(\"LR con miglior treshold su train e validazione:\", accuracy_score(y_test, y_pred_fin_lr))\n",
    "print(classification_report(y_test, y_pred_fin_lr))\n",
    "\n",
    "ConfusionMatrixDisplay.from_predictions(y_test, y_pred_fin_lr)\n",
    "plt.title('Matrice di confusione: LR classifier train + validazione con treshold migliore su test set')"
   ]
  },
  {
   "cell_type": "markdown",
   "id": "b60f70d8-c422-4243-9daf-1214c03f3aa1",
   "metadata": {},
   "source": [
    "Siamo riusciti a migliorare abbastanza il modello che usa la regressione logistica ma nonostante questo, come ci si aspettava, il modello con le Random Forest risulta essere migliore."
   ]
  },
  {
   "cell_type": "markdown",
   "id": "5749b1d3-8ab3-4e61-b9d2-33bb46930ea0",
   "metadata": {},
   "source": [
    "Modello migliore: model_rf_final\n",
    "\n",
    "Treshold migliore: best_roc_th"
   ]
  },
  {
   "cell_type": "code",
   "execution_count": 190,
   "id": "0f095d54-4ac1-498e-bae8-2c7bc9844457",
   "metadata": {},
   "outputs": [
    {
     "name": "stdout",
     "output_type": "stream",
     "text": [
      "RF con miglior treshold su train e validazione: 0.9797979797979798\n",
      "              precision    recall  f1-score   support\n",
      "\n",
      "           0       0.98      0.98      0.98       448\n",
      "           1       0.98      0.98      0.98       443\n",
      "\n",
      "    accuracy                           0.98       891\n",
      "   macro avg       0.98      0.98      0.98       891\n",
      "weighted avg       0.98      0.98      0.98       891\n",
      "\n"
     ]
    },
    {
     "data": {
      "text/plain": [
       "Text(0.5, 1.0, 'Matrice di confusione: RF classifier train + validazione con treshold migliore su test set')"
      ]
     },
     "execution_count": 190,
     "metadata": {},
     "output_type": "execute_result"
    },
    {
     "data": {
      "image/png": "[encoded data removed]",
      "text/plain": [
       "<Figure size 640x480 with 2 Axes>"
      ]
     },
     "metadata": {},
     "output_type": "display_data"
    }
   ],
   "source": [
    "print(\"RF con miglior treshold su train e validazione:\", accuracy_score(y_test, y_pred_fin))\n",
    "print(classification_report(y_test, y_pred_fin))\n",
    "\n",
    "ConfusionMatrixDisplay.from_predictions(y_test, y_pred_fin)\n",
    "plt.title('Matrice di confusione: RF classifier train + validazione con treshold migliore su test set')"
   ]
  },
  {
   "cell_type": "markdown",
   "id": "02e5bb63-42a4-4a1d-b5f6-37f01ec6ff30",
   "metadata": {},
   "source": [
    "Salvo dunque il modello con la sua treshold"
   ]
  },
  {
   "cell_type": "code",
   "execution_count": 212,
   "id": "55a55b8b-e0fd-4b5c-9355-f2625619480e",
   "metadata": {},
   "outputs": [
    {
     "data": {
      "text/plain": [
       "['Trento_CLASS_model']"
      ]
     },
     "execution_count": 212,
     "metadata": {},
     "output_type": "execute_result"
    }
   ],
   "source": [
    "best_predictor = {\n",
    "    \"model\": model_rf_final,\n",
    "    \"threshold\": best_roc_th\n",
    "}\n",
    "dump(best_predictor, \"Trento_CLASS_model\")\n"
   ]
  },
  {
   "cell_type": "markdown",
   "id": "4f87192d-0b36-42b2-8773-6f3a230579dc",
   "metadata": {},
   "source": [
    "# Fasce ristrette"
   ]
  },
  {
   "cell_type": "markdown",
   "id": "c8e9c0e5-c950-4b74-95a4-2f9ff62710ff",
   "metadata": {},
   "source": [
    "Vediamo ora cosa cambia se consideriamo delle fasce orarie piu' ristrette, in particolare usando due fasce 9-12 e 18-21"
   ]
  },
  {
   "cell_type": "code",
   "execution_count": 255,
   "id": "c4d1e3f4-e206-4edf-bd3b-f5d6c578f1d5",
   "metadata": {},
   "outputs": [],
   "source": [
    "df_ris = pd.read_csv(r'C:\\Users\\Francesco\\Desktop\\UniTN\\datascience\\progetto\\TanTupo\\trentino_dataset_class_ristretto.xls').copy()"
   ]
  },
  {
   "cell_type": "code",
   "execution_count": 257,
   "id": "3ae7a7ec-732b-469a-a4a6-0b2ff94fbe05",
   "metadata": {},
   "outputs": [
    {
     "data": {
      "text/html": [
       "<div>\n",
       "<style scoped>\n",
       "    .dataframe tbody tr th:only-of-type {\n",
       "        vertical-align: middle;\n",
       "    }\n",
       "\n",
       "    .dataframe tbody tr th {\n",
       "        vertical-align: top;\n",
       "    }\n",
       "\n",
       "    .dataframe thead th {\n",
       "        text-align: right;\n",
       "    }\n",
       "</style>\n",
       "<table border=\"1\" class=\"dataframe\">\n",
       "  <thead>\n",
       "    <tr style=\"text-align: right;\">\n",
       "      <th></th>\n",
       "      <th>cellId</th>\n",
       "      <th>day</th>\n",
       "      <th>fascia_giorno</th>\n",
       "      <th>UBIC_CELL</th>\n",
       "      <th>n_linee</th>\n",
       "      <th>energy</th>\n",
       "      <th>temp_min</th>\n",
       "      <th>temp_max</th>\n",
       "      <th>temp_mean</th>\n",
       "      <th>tweet_count</th>\n",
       "      <th>...</th>\n",
       "      <th>DEC</th>\n",
       "      <th>LU</th>\n",
       "      <th>MA</th>\n",
       "      <th>ME</th>\n",
       "      <th>GI</th>\n",
       "      <th>VE</th>\n",
       "      <th>SA</th>\n",
       "      <th>DO</th>\n",
       "      <th>TargetReg</th>\n",
       "      <th>TargetClas</th>\n",
       "    </tr>\n",
       "  </thead>\n",
       "  <tbody>\n",
       "    <tr>\n",
       "      <th>0</th>\n",
       "      <td>4381</td>\n",
       "      <td>1</td>\n",
       "      <td>1</td>\n",
       "      <td>39</td>\n",
       "      <td>1</td>\n",
       "      <td>1.216741</td>\n",
       "      <td>12.6</td>\n",
       "      <td>17.4</td>\n",
       "      <td>15.116667</td>\n",
       "      <td>0</td>\n",
       "      <td>...</td>\n",
       "      <td>0</td>\n",
       "      <td>0</td>\n",
       "      <td>0</td>\n",
       "      <td>0</td>\n",
       "      <td>0</td>\n",
       "      <td>1</td>\n",
       "      <td>0</td>\n",
       "      <td>0</td>\n",
       "      <td>1.247654</td>\n",
       "      <td>0</td>\n",
       "    </tr>\n",
       "    <tr>\n",
       "      <th>1</th>\n",
       "      <td>4381</td>\n",
       "      <td>1</td>\n",
       "      <td>0</td>\n",
       "      <td>39</td>\n",
       "      <td>1</td>\n",
       "      <td>1.524388</td>\n",
       "      <td>0.0</td>\n",
       "      <td>0.0</td>\n",
       "      <td>0.000000</td>\n",
       "      <td>0</td>\n",
       "      <td>...</td>\n",
       "      <td>0</td>\n",
       "      <td>0</td>\n",
       "      <td>0</td>\n",
       "      <td>0</td>\n",
       "      <td>0</td>\n",
       "      <td>1</td>\n",
       "      <td>0</td>\n",
       "      <td>0</td>\n",
       "      <td>1.553323</td>\n",
       "      <td>0</td>\n",
       "    </tr>\n",
       "    <tr>\n",
       "      <th>2</th>\n",
       "      <td>4381</td>\n",
       "      <td>2</td>\n",
       "      <td>1</td>\n",
       "      <td>39</td>\n",
       "      <td>1</td>\n",
       "      <td>1.247654</td>\n",
       "      <td>12.5</td>\n",
       "      <td>14.9</td>\n",
       "      <td>13.391667</td>\n",
       "      <td>0</td>\n",
       "      <td>...</td>\n",
       "      <td>0</td>\n",
       "      <td>0</td>\n",
       "      <td>0</td>\n",
       "      <td>0</td>\n",
       "      <td>0</td>\n",
       "      <td>0</td>\n",
       "      <td>1</td>\n",
       "      <td>0</td>\n",
       "      <td>1.166538</td>\n",
       "      <td>0</td>\n",
       "    </tr>\n",
       "    <tr>\n",
       "      <th>3</th>\n",
       "      <td>4381</td>\n",
       "      <td>2</td>\n",
       "      <td>0</td>\n",
       "      <td>39</td>\n",
       "      <td>1</td>\n",
       "      <td>1.553323</td>\n",
       "      <td>0.0</td>\n",
       "      <td>0.0</td>\n",
       "      <td>0.000000</td>\n",
       "      <td>0</td>\n",
       "      <td>...</td>\n",
       "      <td>0</td>\n",
       "      <td>0</td>\n",
       "      <td>0</td>\n",
       "      <td>0</td>\n",
       "      <td>0</td>\n",
       "      <td>0</td>\n",
       "      <td>1</td>\n",
       "      <td>0</td>\n",
       "      <td>1.518700</td>\n",
       "      <td>0</td>\n",
       "    </tr>\n",
       "    <tr>\n",
       "      <th>4</th>\n",
       "      <td>4381</td>\n",
       "      <td>3</td>\n",
       "      <td>1</td>\n",
       "      <td>39</td>\n",
       "      <td>1</td>\n",
       "      <td>1.166538</td>\n",
       "      <td>14.1</td>\n",
       "      <td>15.7</td>\n",
       "      <td>14.516667</td>\n",
       "      <td>0</td>\n",
       "      <td>...</td>\n",
       "      <td>0</td>\n",
       "      <td>0</td>\n",
       "      <td>0</td>\n",
       "      <td>0</td>\n",
       "      <td>0</td>\n",
       "      <td>0</td>\n",
       "      <td>0</td>\n",
       "      <td>1</td>\n",
       "      <td>1.686373</td>\n",
       "      <td>0</td>\n",
       "    </tr>\n",
       "    <tr>\n",
       "      <th>...</th>\n",
       "      <td>...</td>\n",
       "      <td>...</td>\n",
       "      <td>...</td>\n",
       "      <td>...</td>\n",
       "      <td>...</td>\n",
       "      <td>...</td>\n",
       "      <td>...</td>\n",
       "      <td>...</td>\n",
       "      <td>...</td>\n",
       "      <td>...</td>\n",
       "      <td>...</td>\n",
       "      <td>...</td>\n",
       "      <td>...</td>\n",
       "      <td>...</td>\n",
       "      <td>...</td>\n",
       "      <td>...</td>\n",
       "      <td>...</td>\n",
       "      <td>...</td>\n",
       "      <td>...</td>\n",
       "      <td>...</td>\n",
       "      <td>...</td>\n",
       "    </tr>\n",
       "    <tr>\n",
       "      <th>6355</th>\n",
       "      <td>5902</td>\n",
       "      <td>28</td>\n",
       "      <td>0</td>\n",
       "      <td>438</td>\n",
       "      <td>2</td>\n",
       "      <td>12.861347</td>\n",
       "      <td>0.0</td>\n",
       "      <td>0.0</td>\n",
       "      <td>0.000000</td>\n",
       "      <td>0</td>\n",
       "      <td>...</td>\n",
       "      <td>1</td>\n",
       "      <td>0</td>\n",
       "      <td>0</td>\n",
       "      <td>0</td>\n",
       "      <td>0</td>\n",
       "      <td>0</td>\n",
       "      <td>1</td>\n",
       "      <td>0</td>\n",
       "      <td>12.170733</td>\n",
       "      <td>0</td>\n",
       "    </tr>\n",
       "    <tr>\n",
       "      <th>6356</th>\n",
       "      <td>5902</td>\n",
       "      <td>29</td>\n",
       "      <td>1</td>\n",
       "      <td>438</td>\n",
       "      <td>2</td>\n",
       "      <td>9.690476</td>\n",
       "      <td>4.8</td>\n",
       "      <td>5.9</td>\n",
       "      <td>5.266667</td>\n",
       "      <td>0</td>\n",
       "      <td>...</td>\n",
       "      <td>1</td>\n",
       "      <td>0</td>\n",
       "      <td>0</td>\n",
       "      <td>0</td>\n",
       "      <td>0</td>\n",
       "      <td>0</td>\n",
       "      <td>0</td>\n",
       "      <td>1</td>\n",
       "      <td>8.226620</td>\n",
       "      <td>0</td>\n",
       "    </tr>\n",
       "    <tr>\n",
       "      <th>6357</th>\n",
       "      <td>5902</td>\n",
       "      <td>29</td>\n",
       "      <td>0</td>\n",
       "      <td>438</td>\n",
       "      <td>2</td>\n",
       "      <td>12.170733</td>\n",
       "      <td>0.0</td>\n",
       "      <td>0.0</td>\n",
       "      <td>0.000000</td>\n",
       "      <td>0</td>\n",
       "      <td>...</td>\n",
       "      <td>1</td>\n",
       "      <td>0</td>\n",
       "      <td>0</td>\n",
       "      <td>0</td>\n",
       "      <td>0</td>\n",
       "      <td>0</td>\n",
       "      <td>0</td>\n",
       "      <td>1</td>\n",
       "      <td>12.769931</td>\n",
       "      <td>0</td>\n",
       "    </tr>\n",
       "    <tr>\n",
       "      <th>6358</th>\n",
       "      <td>5902</td>\n",
       "      <td>30</td>\n",
       "      <td>1</td>\n",
       "      <td>438</td>\n",
       "      <td>2</td>\n",
       "      <td>8.226620</td>\n",
       "      <td>2.6</td>\n",
       "      <td>4.7</td>\n",
       "      <td>4.191667</td>\n",
       "      <td>3</td>\n",
       "      <td>...</td>\n",
       "      <td>1</td>\n",
       "      <td>1</td>\n",
       "      <td>0</td>\n",
       "      <td>0</td>\n",
       "      <td>0</td>\n",
       "      <td>0</td>\n",
       "      <td>0</td>\n",
       "      <td>0</td>\n",
       "      <td>7.783666</td>\n",
       "      <td>0</td>\n",
       "    </tr>\n",
       "    <tr>\n",
       "      <th>6359</th>\n",
       "      <td>5902</td>\n",
       "      <td>30</td>\n",
       "      <td>0</td>\n",
       "      <td>438</td>\n",
       "      <td>2</td>\n",
       "      <td>12.769931</td>\n",
       "      <td>0.0</td>\n",
       "      <td>0.0</td>\n",
       "      <td>0.000000</td>\n",
       "      <td>0</td>\n",
       "      <td>...</td>\n",
       "      <td>1</td>\n",
       "      <td>1</td>\n",
       "      <td>0</td>\n",
       "      <td>0</td>\n",
       "      <td>0</td>\n",
       "      <td>0</td>\n",
       "      <td>0</td>\n",
       "      <td>0</td>\n",
       "      <td>12.966552</td>\n",
       "      <td>0</td>\n",
       "    </tr>\n",
       "  </tbody>\n",
       "</table>\n",
       "<p>6360 rows × 22 columns</p>\n",
       "</div>"
      ],
      "text/plain": [
       "      cellId  day  fascia_giorno  UBIC_CELL  n_linee     energy  temp_min  \\\n",
       "0       4381    1              1         39        1   1.216741      12.6   \n",
       "1       4381    1              0         39        1   1.524388       0.0   \n",
       "2       4381    2              1         39        1   1.247654      12.5   \n",
       "3       4381    2              0         39        1   1.553323       0.0   \n",
       "4       4381    3              1         39        1   1.166538      14.1   \n",
       "...      ...  ...            ...        ...      ...        ...       ...   \n",
       "6355    5902   28              0        438        2  12.861347       0.0   \n",
       "6356    5902   29              1        438        2   9.690476       4.8   \n",
       "6357    5902   29              0        438        2  12.170733       0.0   \n",
       "6358    5902   30              1        438        2   8.226620       2.6   \n",
       "6359    5902   30              0        438        2  12.769931       0.0   \n",
       "\n",
       "      temp_max  temp_mean  tweet_count  ...  DEC  LU  MA  ME  GI  VE  SA  DO  \\\n",
       "0         17.4  15.116667            0  ...    0   0   0   0   0   1   0   0   \n",
       "1          0.0   0.000000            0  ...    0   0   0   0   0   1   0   0   \n",
       "2         14.9  13.391667            0  ...    0   0   0   0   0   0   1   0   \n",
       "3          0.0   0.000000            0  ...    0   0   0   0   0   0   1   0   \n",
       "4         15.7  14.516667            0  ...    0   0   0   0   0   0   0   1   \n",
       "...        ...        ...          ...  ...  ...  ..  ..  ..  ..  ..  ..  ..   \n",
       "6355       0.0   0.000000            0  ...    1   0   0   0   0   0   1   0   \n",
       "6356       5.9   5.266667            0  ...    1   0   0   0   0   0   0   1   \n",
       "6357       0.0   0.000000            0  ...    1   0   0   0   0   0   0   1   \n",
       "6358       4.7   4.191667            3  ...    1   1   0   0   0   0   0   0   \n",
       "6359       0.0   0.000000            0  ...    1   1   0   0   0   0   0   0   \n",
       "\n",
       "      TargetReg  TargetClas  \n",
       "0      1.247654           0  \n",
       "1      1.553323           0  \n",
       "2      1.166538           0  \n",
       "3      1.518700           0  \n",
       "4      1.686373           0  \n",
       "...         ...         ...  \n",
       "6355  12.170733           0  \n",
       "6356   8.226620           0  \n",
       "6357  12.769931           0  \n",
       "6358   7.783666           0  \n",
       "6359  12.966552           0  \n",
       "\n",
       "[6360 rows x 22 columns]"
      ]
     },
     "execution_count": 257,
     "metadata": {},
     "output_type": "execute_result"
    }
   ],
   "source": [
    "df_ris"
   ]
  },
  {
   "cell_type": "markdown",
   "id": "fe1feefe-4b84-418c-ab71-7de342275079",
   "metadata": {},
   "source": [
    "NB! questo dataset e' stato ottenuto dal file 'ProjectEDA.ipytnb' cambiando i valori delle fasce orarie, quidni la feature fascia_giorno indica fascia 9-12 se e' pari a 1 e 18-21 se pari a 0."
   ]
  },
  {
   "cell_type": "markdown",
   "id": "c9ec48fc-adbb-4443-853a-61b0bd9822bd",
   "metadata": {},
   "source": [
    "Procediamo come abbiamo fatto sopra togliendo le colonne che non ci interessano come features e dividendo l'intero dataset in train, validation e test"
   ]
  },
  {
   "cell_type": "code",
   "execution_count": 261,
   "id": "993877d3-eb59-4663-959c-436cb8c0b0d6",
   "metadata": {},
   "outputs": [],
   "source": [
    "# Tolgo i sabati e le domeniche, voglio solo analizzare giorni infrasettimanali\n",
    "df_ris = df_ris[(df_ris['SA'] != 1) & (df_ris['DO'] != 1)]\n",
    "del df_ris['SA']\n",
    "del df_ris['DO']\n",
    "\n",
    "# Rinomino la colonna target\n",
    "df_ris = df_ris.rename(columns={'TargetClas': 'target'})\n",
    "\n",
    "# Divido il dataset\n",
    "df_train, df_valid_test = train_test_split(df_ris, test_size = 0.4, random_state=rdm_st)\n",
    "df_valid, df_test = train_test_split(df_valid_test, test_size = 0.5, random_state=rdm_st)\n",
    "\n",
    "# Divido features dal target\n",
    "x_train = df_train.drop(columns='target')\n",
    "y_train = df_train['target']\n",
    "\n",
    "x_valid = df_valid.drop(columns='target')\n",
    "y_valid = df_valid['target']\n",
    "\n",
    "x_test = df_test.drop(columns='target')\n",
    "y_test = df_test['target']"
   ]
  },
  {
   "cell_type": "markdown",
   "id": "c9d81887-a7ec-45be-aa92-2e727ed392b6",
   "metadata": {},
   "source": [
    "Procedo come prima ad allenare diversi tipi di RandomForest con i tre scoring"
   ]
  },
  {
   "cell_type": "code",
   "execution_count": 277,
   "id": "d30924cb-7038-41e9-bc86-adf08d96a9b7",
   "metadata": {},
   "outputs": [
    {
     "name": "stderr",
     "output_type": "stream",
     "text": [
      "C:\\Users\\Francesco\\anaconda3\\Lib\\site-packages\\numpy\\ma\\core.py:2820: RuntimeWarning: invalid value encountered in cast\n",
      "  _data = np.array(data, dtype=dtype, copy=copy,\n",
      "C:\\Users\\Francesco\\anaconda3\\Lib\\site-packages\\numpy\\ma\\core.py:2820: RuntimeWarning: invalid value encountered in cast\n",
      "  _data = np.array(data, dtype=dtype, copy=copy,\n"
     ]
    }
   ],
   "source": [
    "model_rf_acc, param_rf_acc = best_model(RandomForestClassifier(), param_grid, x_train, y_train, cv, 'accuracy')\n",
    "model_rf_f1, param_rf_f1 = best_model(RandomForestClassifier(), param_grid, x_train, y_train, cv, 'f1')\n",
    "model_rf_mcc, param_rf_mcc = best_model(RandomForestClassifier(), param_grid, x_train, y_train, cv, 'matthews_corrcoef')"
   ]
  },
  {
   "cell_type": "code",
   "execution_count": 279,
   "id": "5b488f3d-058c-4c6c-961f-ce6cfe6567f8",
   "metadata": {},
   "outputs": [
    {
     "name": "stdout",
     "output_type": "stream",
     "text": [
      "{'max_depth': 5, 'min_samples_leaf': 2, 'min_samples_split': 2, 'n_estimators': 50}\n",
      "{'max_depth': 5, 'min_samples_leaf': 2, 'min_samples_split': 2, 'n_estimators': 50}\n",
      "{'max_depth': 5, 'min_samples_leaf': 2, 'min_samples_split': 2, 'n_estimators': 75}\n"
     ]
    }
   ],
   "source": [
    "print(param_rf_acc)\n",
    "print(param_rf_f1)\n",
    "print(param_rf_mcc)"
   ]
  },
  {
   "cell_type": "markdown",
   "id": "fc3ef77d-f0c9-4a56-84a5-02c2f277aced",
   "metadata": {},
   "source": [
    "come prima confronto i modelli"
   ]
  },
  {
   "cell_type": "code",
   "execution_count": 287,
   "id": "3759f263-ba55-4b51-940b-10aebc3c720b",
   "metadata": {},
   "outputs": [],
   "source": [
    "y_pred3 = model_rf_acc.predict(x_valid)\n",
    "y_pred4 = model_rf_acc.predict(x_train)\n",
    "\n",
    "y_pred5 = model_rf_f1.predict(x_valid)\n",
    "y_pred6 = model_rf_f1.predict(x_train)\n",
    "\n",
    "y_pred7 = model_rf_mcc.predict(x_valid)\n",
    "y_pred8 = model_rf_mcc.predict(x_train)"
   ]
  },
  {
   "cell_type": "code",
   "execution_count": 291,
   "id": "aacbd6c8-64a8-4f1e-a5a8-456ddbc21008",
   "metadata": {},
   "outputs": [
    {
     "name": "stdout",
     "output_type": "stream",
     "text": [
      "ACCURACY VALIDAZIONE\n",
      "Train Accuracy: 0.998876404494382\n",
      "              precision    recall  f1-score   support\n",
      "\n",
      "           0       1.00      1.00      1.00       398\n",
      "           1       1.00      1.00      1.00       492\n",
      "\n",
      "    accuracy                           1.00       890\n",
      "   macro avg       1.00      1.00      1.00       890\n",
      "weighted avg       1.00      1.00      1.00       890\n",
      "\n",
      "matrice di confusione: RF classifier ottimizzato accuracy su validation set\n",
      "[[397   1]\n",
      " [  0 492]]\n"
     ]
    }
   ],
   "source": [
    "print('ACCURACY VALIDAZIONE')\n",
    "print(\"Train Accuracy:\", accuracy_score(y_valid, y_pred3))\n",
    "print(classification_report(y_valid, y_pred3))\n",
    "print('matrice di confusione: RF classifier ottimizzato accuracy su validation set')\n",
    "print(confusion_matrix(y_valid, y_pred3))"
   ]
  },
  {
   "cell_type": "code",
   "execution_count": 297,
   "id": "49491b14-2b36-4b6e-86cd-489acbdd6a9c",
   "metadata": {},
   "outputs": [
    {
     "name": "stdout",
     "output_type": "stream",
     "text": [
      "F1 VALIDAZIONE\n",
      "Train Accuracy: 0.998876404494382\n",
      "              precision    recall  f1-score   support\n",
      "\n",
      "           0       1.00      1.00      1.00       398\n",
      "           1       1.00      1.00      1.00       492\n",
      "\n",
      "    accuracy                           1.00       890\n",
      "   macro avg       1.00      1.00      1.00       890\n",
      "weighted avg       1.00      1.00      1.00       890\n",
      "\n",
      "matrice di confusione: RF classifier ottimizzato f1 su validation set\n",
      "[[397   1]\n",
      " [  0 492]]\n"
     ]
    }
   ],
   "source": [
    "print('F1 VALIDAZIONE')\n",
    "print(\"Train Accuracy:\", accuracy_score(y_valid, y_pred5))\n",
    "print(classification_report(y_valid, y_pred5))\n",
    "print('matrice di confusione: RF classifier ottimizzato f1 su validation set')\n",
    "print(confusion_matrix(y_valid, y_pred5))"
   ]
  },
  {
   "cell_type": "code",
   "execution_count": 303,
   "id": "878ae1cd-6ee9-4357-94d3-6202ae7b1062",
   "metadata": {},
   "outputs": [
    {
     "name": "stdout",
     "output_type": "stream",
     "text": [
      "MCC VALIDAZIONE\n",
      "Train Accuracy: 1.0\n",
      "              precision    recall  f1-score   support\n",
      "\n",
      "           0       1.00      1.00      1.00       398\n",
      "           1       1.00      1.00      1.00       492\n",
      "\n",
      "    accuracy                           1.00       890\n",
      "   macro avg       1.00      1.00      1.00       890\n",
      "weighted avg       1.00      1.00      1.00       890\n",
      "\n",
      "matrice di confusione: RF classifier ottimizzato mcc su validation set\n",
      "[[398   0]\n",
      " [  0 492]]\n"
     ]
    }
   ],
   "source": [
    "print('MCC VALIDAZIONE')\n",
    "print(\"Train Accuracy:\", accuracy_score(y_valid, y_pred7))\n",
    "print(classification_report(y_valid, y_pred7))\n",
    "print('matrice di confusione: RF classifier ottimizzato mcc su validation set')\n",
    "print(confusion_matrix(y_valid, y_pred7))"
   ]
  },
  {
   "cell_type": "markdown",
   "id": "db6de9cc-5e27-4ae0-9ed2-218ea8cfab44",
   "metadata": {},
   "source": [
    "Vediamo che in questo caso la bonta' del modello con scoring e' nettamente superiore a quella del caso di fasce orarie piu' ampie. I falsi positivi e fasli negativi sono pari a 0, e questo fa pensare ad un probabile overfitting, ma se guardiamo come il modello riesce a prevedere il set di test:"
   ]
  },
  {
   "cell_type": "code",
   "execution_count": 312,
   "id": "0250e353-5c3d-451d-ae70-78b60e7868bf",
   "metadata": {},
   "outputs": [
    {
     "name": "stdout",
     "output_type": "stream",
     "text": [
      "MCC VALIDAZIONE\n",
      "Train Accuracy: 1.0\n",
      "              precision    recall  f1-score   support\n",
      "\n",
      "           0       1.00      1.00      1.00       398\n",
      "           1       1.00      1.00      1.00       492\n",
      "\n",
      "    accuracy                           1.00       890\n",
      "   macro avg       1.00      1.00      1.00       890\n",
      "weighted avg       1.00      1.00      1.00       890\n",
      "\n",
      "matrice di confusione: RF classifier ottimizzato mcc su validation set\n",
      "[[398   0]\n",
      " [  0 492]]\n"
     ]
    }
   ],
   "source": [
    "print('MCC VALIDAZIONE')\n",
    "print(\"Train Accuracy:\", accuracy_score(y_test, model_rf_mcc.predict(x_test)))\n",
    "print(classification_report(y_valid, y_pred7))\n",
    "print('matrice di confusione: RF classifier ottimizzato mcc su validation set')\n",
    "print(confusion_matrix(y_valid, y_pred7))"
   ]
  },
  {
   "cell_type": "markdown",
   "id": "23efdc6f-1d70-4da4-a10b-55bc85911a1f",
   "metadata": {},
   "source": [
    "Vediamo che il modello riesce a prevedere con estrema esattezza anche questo set di dati."
   ]
  },
  {
   "cell_type": "markdown",
   "id": "40afa0bd-d546-4a60-b468-216dab14b726",
   "metadata": {},
   "source": [
    "Quello che si capisce da questi risultati, anche senza proseguire a trovare la treshold migliore con la ROC, e' che la suddivisione in fasce orarie piu' piccole non solo e' totalmente fattibile, ma migliora di molto l'affidabilita' del modello. \n",
    "\n",
    "Una possibile spiegazione e' che durante una fascia ampia come 8-19 o 19-24 i valori energetici cambiano molto, e questo comporta una maggiore difficolta' al modello nel predire il valore totale. In fasce orarie piu' piccole i consumi sono piu' stabili proprio perche' si considera un intervallo temporale piu' piccolo, e questo permette al modello di prevedere meglio i consumi. \n",
    "\n",
    "Ad esempio: durante la settimana nella fascia 9-12 la maggior parte delle persone adulte lavora e i giovani sono a scuola o in universita': ogni persona (o comunque la maggior parte) svolge delle attivita' prevedibili e uguali ogni giorno e quindi i consumi energetici saranno bene o male sempre gli stessi. Durante una fascia oraria piu' ampia come 8-19, le persone vanno in pausa pranzo, tornano a casa, vanno in palestra ecc... ovvero ogni persona svolge delle attivita' diverse, che possono dipendere dalla persona stessa, dal giorno della settimana e molti altri fattori che sono meno prevedibili proprio perche' piu' soggettivi, e per questo motivo il modello fa piu' fatica."
   ]
  },
  {
   "cell_type": "code",
   "execution_count": null,
   "id": "c9dee123-ee31-40b1-b731-cbdc57b0087a",
   "metadata": {},
   "outputs": [],
   "source": []
  }
 ],
 "metadata": {
  "kernelspec": {
   "display_name": "Python [conda env:base] *",
   "language": "python",
   "name": "conda-base-py"
  },
  "language_info": {
   "codemirror_mode": {
    "name": "ipython",
    "version": 3
   },
   "file_extension": ".py",
   "mimetype": "text/x-python",
   "name": "python",
   "nbconvert_exporter": "python",
   "pygments_lexer": "ipython3",
   "version": "3.12.3"
  }
 },
 "nbformat": 4,
 "nbformat_minor": 5
}
